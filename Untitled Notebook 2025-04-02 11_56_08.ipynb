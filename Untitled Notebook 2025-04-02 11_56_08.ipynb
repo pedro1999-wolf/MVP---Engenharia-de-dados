{
 "cells": [
  {
   "cell_type": "code",
   "execution_count": 0,
   "metadata": {
    "application/vnd.databricks.v1+cell": {
     "cellMetadata": {
      "byteLimit": 2048000,
      "rowLimit": 10000
     },
     "inputWidgets": {},
     "nuid": "1fb69ffd-9c66-480a-8d6f-f2af4fdf32aa",
     "showTitle": true,
     "tableResultSettingsMap": {},
     "title": "Importação de pacotes"
    }
   },
   "outputs": [],
   "source": [
    "from pyspark.sql import SparkSession\n",
    "from pyspark.sql.functions import lit\n",
    "from pyspark.sql.functions import col, sum, when, split, explode, trim,lower\n",
    "from pyspark.sql import Row\n",
    "import io\n",
    "import requests"
   ]
  },
  {
   "cell_type": "markdown",
   "metadata": {
    "application/vnd.databricks.v1+cell": {
     "cellMetadata": {
      "byteLimit": 2048000,
      "rowLimit": 10000
     },
     "inputWidgets": {},
     "nuid": "a98cd3fc-421c-4dc5-9740-9f6f588af3b6",
     "showTitle": false,
     "tableResultSettingsMap": {},
     "title": ""
    }
   },
   "source": [
    "**CAMADA BRONZE** "
   ]
  },
  {
   "cell_type": "code",
   "execution_count": 0,
   "metadata": {
    "application/vnd.databricks.v1+cell": {
     "cellMetadata": {
      "byteLimit": 2048000,
      "rowLimit": 10000
     },
     "inputWidgets": {},
     "nuid": "bf0dded6-888c-40d9-b56b-2f8cf10c163e",
     "showTitle": true,
     "tableResultSettingsMap": {},
     "title": "Importação dos dados"
    }
   },
   "outputs": [
    {
     "output_type": "stream",
     "name": "stdout",
     "output_type": "stream",
     "text": [
      "--2025-04-07 22:36:39--  https://raw.githubusercontent.com/pedro1999-wolf/MVP---Engenharia-de-dados/main/apple_TV.csv\r\nResolving raw.githubusercontent.com (raw.githubusercontent.com)... 185.199.108.133, 185.199.111.133, 185.199.109.133, ...\r\nConnecting to raw.githubusercontent.com (raw.githubusercontent.com)|185.199.108.133|:443... connected.\r\nHTTP request sent, awaiting response... 200 OK\r\nLength: 1194298 (1.1M) [text/plain]\r\nSaving to: ‘/tmp/apple_TV.csv’\r\n\r\n\r/tmp/apple_TV.csv     0%[                    ]       0  --.-KB/s               \r/tmp/apple_TV.csv   100%[===================>]   1.14M  --.-KB/s    in 0.04s   \r\n\r\n2025-04-07 22:36:39 (30.6 MB/s) - ‘/tmp/apple_TV.csv’ saved [1194298/1194298]\r\n\r\n--2025-04-07 22:36:40--  https://raw.githubusercontent.com/pedro1999-wolf/MVP---Engenharia-de-dados/main/hbo.csv\r\nResolving raw.githubusercontent.com (raw.githubusercontent.com)... 185.199.110.133, 185.199.109.133, 185.199.111.133, ...\r\nConnecting to raw.githubusercontent.com (raw.githubusercontent.com)|185.199.110.133|:443... connected.\r\nHTTP request sent, awaiting response... 200 OK\r\nLength: 669764 (654K) [text/plain]\r\nSaving to: ‘/tmp/hbo.csv’\r\n\r\n\r/tmp/hbo.csv          0%[                    ]       0  --.-KB/s               \r/tmp/hbo.csv        100%[===================>] 654.07K  --.-KB/s    in 0.04s   \r\n\r\n2025-04-07 22:36:40 (16.5 MB/s) - ‘/tmp/hbo.csv’ saved [669764/669764]\r\n\r\n--2025-04-07 22:36:41--  https://raw.githubusercontent.com/pedro1999-wolf/MVP---Engenharia-de-dados/main/hulu.csv\r\nResolving raw.githubusercontent.com (raw.githubusercontent.com)... 185.199.108.133, 185.199.110.133, 185.199.109.133, ...\r\nConnecting to raw.githubusercontent.com (raw.githubusercontent.com)|185.199.108.133|:443... connected.\r\nHTTP request sent, awaiting response... 200 OK\r\nLength: 711428 (695K) [text/plain]\r\nSaving to: ‘/tmp/hulu.csv’\r\n\r\n\r/tmp/hulu.csv         0%[                    ]       0  --.-KB/s               \r/tmp/hulu.csv       100%[===================>] 694.75K  --.-KB/s    in 0.04s   \r\n\r\n2025-04-07 22:36:41 (19.0 MB/s) - ‘/tmp/hulu.csv’ saved [711428/711428]\r\n\r\n--2025-04-07 22:36:42--  https://raw.githubusercontent.com/pedro1999-wolf/MVP---Engenharia-de-dados/main/netflix.csv\r\nResolving raw.githubusercontent.com (raw.githubusercontent.com)... 185.199.111.133, 185.199.108.133, 185.199.110.133, ...\r\nConnecting to raw.githubusercontent.com (raw.githubusercontent.com)|185.199.111.133|:443... connected.\r\nHTTP request sent, awaiting response... 200 OK\r\nLength: 1458159 (1.4M) [text/plain]\r\nSaving to: ‘/tmp/netflix.csv’\r\n\r\n\r/tmp/netflix.csv      0%[                    ]       0  --.-KB/s               \r/tmp/netflix.csv    100%[===================>]   1.39M  --.-KB/s    in 0.04s   \r\n\r\n2025-04-07 22:36:42 (37.2 MB/s) - ‘/tmp/netflix.csv’ saved [1458159/1458159]\r\n\r\n--2025-04-07 22:36:43--  https://raw.githubusercontent.com/pedro1999-wolf/MVP---Engenharia-de-dados/main/prime_video.csv\r\nResolving raw.githubusercontent.com (raw.githubusercontent.com)... 185.199.109.133, 185.199.111.133, 185.199.108.133, ...\r\nConnecting to raw.githubusercontent.com (raw.githubusercontent.com)|185.199.109.133|:443... connected.\r\nHTTP request sent, awaiting response... 200 OK\r\nLength: 4652023 (4.4M) [text/plain]\r\nSaving to: ‘/tmp/prime_video.csv’\r\n\r\n\r/tmp/prime_video.cs   0%[                    ]       0  --.-KB/s               \r/tmp/prime_video.cs 100%[===================>]   4.44M  --.-KB/s    in 0.06s   \r\n\r\n2025-04-07 22:36:43 (71.1 MB/s) - ‘/tmp/prime_video.csv’ saved [4652023/4652023]\r\n\r\n"
     ]
    }
   ],
   "source": [
    "# 1. Download dos arquivos para /tmp/\n",
    "!wget -O /tmp/apple_TV.csv https://raw.githubusercontent.com/pedro1999-wolf/MVP---Engenharia-de-dados/main/apple_TV.csv\n",
    "!wget -O /tmp/hbo.csv https://raw.githubusercontent.com/pedro1999-wolf/MVP---Engenharia-de-dados/main/hbo.csv\n",
    "!wget -O /tmp/hulu.csv https://raw.githubusercontent.com/pedro1999-wolf/MVP---Engenharia-de-dados/main/hulu.csv\n",
    "!wget -O /tmp/netflix.csv https://raw.githubusercontent.com/pedro1999-wolf/MVP---Engenharia-de-dados/main/netflix.csv\n",
    "!wget -O /tmp/prime_video.csv https://raw.githubusercontent.com/pedro1999-wolf/MVP---Engenharia-de-dados/main/prime_video.csv\n",
    "\n",
    "# 2. Leitura dos CSVs com Spark\n",
    "\n",
    "apple_tv_df = spark.read.option(\"header\", \"true\").csv(\"file:/tmp/apple_TV.csv\").withColumn(\"plataforma\", lit(\"Apple TV\"))\n",
    "hbo_df = spark.read.option(\"header\", \"true\").csv(\"file:/tmp/hbo.csv\").withColumn(\"plataforma\", lit(\"HBO\"))\n",
    "hulu_df = spark.read.option(\"header\", \"true\").csv(\"file:/tmp/hulu.csv\").withColumn(\"plataforma\", lit(\"Hulu\"))\n",
    "netflix_df = spark.read.option(\"header\", \"true\").csv(\"file:/tmp/netflix.csv\").withColumn(\"plataforma\", lit(\"Netflix\"))\n",
    "prime_video_df = spark.read.option(\"header\", \"true\").csv(\"file:/tmp/prime_video.csv\").withColumn(\"plataforma\", lit(\"Prime Video\"))"
   ]
  },
  {
   "cell_type": "markdown",
   "metadata": {
    "application/vnd.databricks.v1+cell": {
     "cellMetadata": {
      "byteLimit": 2048000,
      "rowLimit": 10000
     },
     "inputWidgets": {},
     "nuid": "9b99f0d6-bccb-4eeb-9243-34d1980a762b",
     "showTitle": false,
     "tableResultSettingsMap": {},
     "title": ""
    }
   },
   "source": [
    "**CAMADA PRATA**\n"
   ]
  },
  {
   "cell_type": "code",
   "execution_count": 0,
   "metadata": {
    "application/vnd.databricks.v1+cell": {
     "cellMetadata": {
      "byteLimit": 2048000,
      "implicitDf": true,
      "rowLimit": 10000
     },
     "inputWidgets": {},
     "nuid": "16591974-2c87-440f-9789-ba16b1626511",
     "showTitle": true,
     "tableResultSettingsMap": {},
     "title": "União dos dataframes"
    }
   },
   "outputs": [
    {
     "output_type": "stream",
     "name": "stdout",
     "output_type": "stream",
     "text": [
      "+--------------------+-----+--------------------+-----------+---------+-----------------+------------+------------------+----------+\n|               title| type|              genres|releaseYear|   imdbId|imdbAverageRating|imdbNumVotes|availableCountries|plataforma|\n+--------------------+-----+--------------------+-----------+---------+-----------------+------------+------------------+----------+\n|          Four Rooms|movie|              Comedy|       1995|tt0113101|              6.7|      113837|              null|  Apple TV|\n|        Forrest Gump|movie|      Drama, Romance|       1994|tt0109830|              8.8|     2365858|              null|  Apple TV|\n|     American Beauty|movie|               Drama|       1999|tt0169547|              8.3|     1245164|              null|  Apple TV|\n|        Citizen Kane|movie|      Drama, Mystery|       1941|tt0033467|              8.3|      479414|              null|  Apple TV|\n|          Metropolis|movie|       Drama, Sci-Fi|       1927|tt0017136|              8.3|      193337|              null|  Apple TV|\n|          Unforgiven|movie|      Drama, Western|       1992|tt0105695|              8.2|      452358|              null|  Apple TV|\n|Eternal Sunshine ...|movie|Drama, Romance, S...|       2004|tt0338013|              8.3|     1131080|              null|  Apple TV|\n|       Amores Perros|movie|     Drama, Thriller|       2000|tt0245712|                8|      263163|              null|  Apple TV|\n|          12 Monkeys|movie|Mystery, Sci-Fi, ...|       1995|tt0114746|                8|      662382|              null|  Apple TV|\n|         Talk to Her|movie|Drama, Mystery, R...|       2002|tt0287467|              7.9|      119746|              null|  Apple TV|\n+--------------------+-----+--------------------+-----------+---------+-----------------+------------+------------------+----------+\nonly showing top 10 rows\n\n"
     ]
    }
   ],
   "source": [
    "# 3. União dos dataframes\n",
    "\n",
    "df_total = apple_tv_df.unionByName(hbo_df, allowMissingColumns=True) \\\n",
    "                      .unionByName(hulu_df, allowMissingColumns=True) \\\n",
    "                      .unionByName(netflix_df, allowMissingColumns=True) \\\n",
    "                      .unionByName(prime_video_df, allowMissingColumns=True)\n",
    "\n",
    "# 4. Checar se a união deu certo\n",
    "df_total.show(10)\n"
   ]
  },
  {
   "cell_type": "code",
   "execution_count": 0,
   "metadata": {
    "application/vnd.databricks.v1+cell": {
     "cellMetadata": {
      "byteLimit": 2048000,
      "rowLimit": 10000
     },
     "inputWidgets": {},
     "nuid": "25a3755b-0a96-4c32-ac67-394330fc57b5",
     "showTitle": true,
     "tableResultSettingsMap": {},
     "title": "Explosão da coluna gêneros"
    }
   },
   "outputs": [
    {
     "output_type": "stream",
     "name": "stdout",
     "output_type": "stream",
     "text": [
      "+---------------+-----+-------+-----------+---------+-----------------+------------+------------------+----------+\n|          title| type| genres|releaseYear|   imdbId|imdbAverageRating|imdbNumVotes|availableCountries|plataforma|\n+---------------+-----+-------+-----------+---------+-----------------+------------+------------------+----------+\n|     Four Rooms|movie| comedy|       1995|tt0113101|              6.7|      113837|              null|  Apple TV|\n|   Forrest Gump|movie|  drama|       1994|tt0109830|              8.8|     2365858|              null|  Apple TV|\n|   Forrest Gump|movie|romance|       1994|tt0109830|              8.8|     2365858|              null|  Apple TV|\n|American Beauty|movie|  drama|       1999|tt0169547|              8.3|     1245164|              null|  Apple TV|\n|   Citizen Kane|movie|  drama|       1941|tt0033467|              8.3|      479414|              null|  Apple TV|\n|   Citizen Kane|movie|mystery|       1941|tt0033467|              8.3|      479414|              null|  Apple TV|\n|     Metropolis|movie|  drama|       1927|tt0017136|              8.3|      193337|              null|  Apple TV|\n|     Metropolis|movie| sci-fi|       1927|tt0017136|              8.3|      193337|              null|  Apple TV|\n|     Unforgiven|movie|  drama|       1992|tt0105695|              8.2|      452358|              null|  Apple TV|\n|     Unforgiven|movie|western|       1992|tt0105695|              8.2|      452358|              null|  Apple TV|\n+---------------+-----+-------+-----------+---------+-----------------+------------+------------------+----------+\nonly showing top 10 rows\n\n"
     ]
    }
   ],
   "source": [
    "# Explodir os gêneros separados por vírgula\n",
    "df_generos_explodido = df_total.withColumn(\"genres\", explode(split(col(\"genres\"), \",\")))\n",
    "df_generos_explodido = df_generos_explodido.withColumn(\"genres\", lower(trim(col(\"genres\"))))\n",
    "\n",
    "# Checar se a explosão deu certo\n",
    "df_generos_explodido.show(10)\n"
   ]
  },
  {
   "cell_type": "code",
   "execution_count": 0,
   "metadata": {
    "application/vnd.databricks.v1+cell": {
     "cellMetadata": {
      "byteLimit": 2048000,
      "rowLimit": 10000
     },
     "inputWidgets": {},
     "nuid": "8fd4fb0e-beca-40ee-9140-24f1213314cc",
     "showTitle": true,
     "tableResultSettingsMap": {},
     "title": "Limpeza dos dados"
    }
   },
   "outputs": [
    {
     "output_type": "stream",
     "name": "stdout",
     "output_type": "stream",
     "text": [
      "+-----+----+------+-----------+------+-----------------+------------+------------------+----------+\n|title|type|genres|releaseYear|imdbId|imdbAverageRating|imdbNumVotes|availableCountries|plataforma|\n+-----+----+------+-----------+------+-----------------+------------+------------------+----------+\n| 4160|   0|     0|        153| 11981|            16872|       16872|            260849|         0|\n+-----+----+------+-----------+------+-----------------+------------+------------------+----------+\n\n+-----+----+------+-----------------+----------+\n|title|type|genres|imdbAverageRating|plataforma|\n+-----+----+------+-----------------+----------+\n|    0|   0|     0|                0|         0|\n+-----+----+------+-----------------+----------+\n\n+-----------+------+\n| plataforma| count|\n+-----------+------+\n|   Apple TV| 34411|\n|        HBO| 18558|\n|       Hulu| 20626|\n|    Netflix| 43109|\n|Prime Video|128330|\n+-----------+------+\n\n+-----------+-----+\n|     genres|count|\n+-----------+-----+\n|  biography| 4905|\n|      crime|15620|\n|    fantasy| 5543|\n|documentary|13289|\n|       news|  139|\n|     action|18805|\n|  animation| 8715|\n|       soap|    1|\n|    mystery| 8640|\n|      sport| 2019|\n|     family| 6697|\n|     horror|11511|\n|  film-noir|  264|\n|    history| 4232|\n|      music| 2860|\n|  talk-show|  176|\n|    musical| 1340|\n|  adventure|12215|\n| reality-tv| 2518|\n|      drama|53117|\n+-----------+-----+\nonly showing top 20 rows\n\n+-------------+------+\n|         type| count|\n+-------------+------+\n|           tv| 46017|\n|        movie|199014|\n| \"\" Princess\"|     3|\n+-------------+------+\n\n+-----------+-----+\n| plataforma|count|\n+-----------+-----+\n|   Apple TV|21449|\n|        HBO| 9333|\n|       Hulu|11998|\n|    Netflix|26574|\n|Prime Video|80957|\n+-----------+-----+\n\n+--------+-----+\n|  genres|count|\n+--------+-----+\n|  action|18805|\n|  sci fi| 4405|\n|  horror|11511|\n|   drama|53117|\n| romance|14941|\n|thriller|14690|\n|  comedy|32842|\n+--------+-----+\n\n+-----+------+\n| type| count|\n+-----+------+\n|   tv| 20792|\n|movie|129519|\n+-----+------+\n\n"
     ]
    }
   ],
   "source": [
    "# Verificar número de nulos por coluna\n",
    "df_generos_explodido.select([\n",
    "    sum(when(col(c).isNull() | (col(c) == \"\"), 1).otherwise(0)).alias(c)\n",
    "    for c in df_generos_explodido.columns\n",
    "]).show()\n",
    "\n",
    "# Eliminar colunas não informativas\n",
    "df_drop_colunas = df_generos_explodido.drop(\"availableCountries\", \"imdbNumVotes\", \"imdbId\", \"releaseYear\")\n",
    "\n",
    "# Eliminar linhas de valores nulos e produzir a tabela final\n",
    "df_ouro = df_drop_colunas.na.drop()\n",
    "\n",
    "# Verificar se as colunas e nulos foram eliminados\n",
    "df_ouro.select([\n",
    "    sum(when(col(c).isNull() | (col(c) == \"\"), 1).otherwise(0)).alias(c)\n",
    "    for c in df_ouro.columns\n",
    "]).show()\n",
    "\n",
    "# Checando se informações por coluna\n",
    "df_ouro.groupBy(\"plataforma\").count().show()\n",
    "df_ouro.groupBy(\"genres\").count().show()\n",
    "df_ouro.groupBy(\"type\").count().show()\n",
    "\n",
    "#Eliminar tipo \"Princess\" por que não faz sentido\n",
    "df_ouro = df_ouro.filter(trim(col(\"type\")) != '\"\" Princess\"')\n",
    "\n",
    "#Eliminar gêneros não informativos, deixando apenas os mais gerais\n",
    "generos_excluir = [\n",
    "    \"tv movie\", \"adult\", \"adventure\", \"biography\", \"crime\", \"family\",\n",
    "    \"film-noir\", \"talk-show\", \"reality-tv\", \"war\", \"soap\", \"mystery\",\n",
    "    \"sport\", \"news\", \"short\", \"western\", \"game-show\", \"action & adventure\", \"animation\", \"documentary\", \"fantasy\", \"history\", \"musical\",\"music\", \"kids\", \"reality\"\n",
    "]\n",
    "df_ouro = df_ouro.filter(~col(\"genres\").isin(generos_excluir))\n",
    "\n",
    "# Ajustando valores redundantes em gêneros\n",
    "df_ouro = df_ouro.withColumn(\n",
    "    \"genres\",\n",
    "    when((col(\"genres\") == \"sci-fi\") | (col(\"genres\") == \"science fiction\"), \"sci fi\")\n",
    "    .otherwise(col(\"genres\"))\n",
    ")\n",
    "\n",
    "\n",
    "# Checando se as eliminações deram certo\n",
    "df_ouro.groupBy(\"plataforma\").count().show()\n",
    "df_ouro.groupBy(\"genres\").count().show()\n",
    "df_ouro.groupBy(\"type\").count().show()\n",
    "\n"
   ]
  },
  {
   "cell_type": "code",
   "execution_count": 0,
   "metadata": {
    "application/vnd.databricks.v1+cell": {
     "cellMetadata": {
      "byteLimit": 2048000,
      "rowLimit": 10000
     },
     "inputWidgets": {},
     "nuid": "0aca747e-9880-403e-9d6b-8e382c7e98d8",
     "showTitle": true,
     "tableResultSettingsMap": {},
     "title": "Criando uma tabela de dimensão"
    }
   },
   "outputs": [
    {
     "output_type": "stream",
     "name": "stdout",
     "output_type": "stream",
     "text": [
      "+-----------+-------------------------+\n| plataforma|preco_mensal_sem_anuncios|\n+-----------+-------------------------+\n|    Netflix|                     59.9|\n|Prime Video|                     29.9|\n|   Apple TV|                     21.9|\n|        HBO|                     55.9|\n|       Hulu|                    18.99|\n+-----------+-------------------------+\n\n"
     ]
    }
   ],
   "source": [
    "\n",
    "plataformas = [\n",
    "    Row(plataforma=\"Netflix\", preco_mensal_sem_anuncios= 59.90),\n",
    "    Row(plataforma=\"Prime Video\", preco_mensal_sem_anuncios= 29.90),\n",
    "    Row(plataforma=\"Apple TV\", preco_mensal_sem_anuncios= 21.90),\n",
    "    Row(plataforma=\"HBO\", preco_mensal_sem_anuncios= 55.90),\n",
    "    Row(plataforma=\"Hulu\", preco_mensal_sem_anuncios= 18.99)\n",
    "]\n",
    "\n",
    "dim_plataforma = spark.createDataFrame(plataformas)\n",
    "\n",
    "dim_plataforma.show()\n",
    "\n",
    "dim_plataforma.write.format(\"delta\").mode(\"overwrite\").saveAsTable(\"dim_plataforma\")\n"
   ]
  },
  {
   "cell_type": "code",
   "execution_count": 0,
   "metadata": {
    "application/vnd.databricks.v1+cell": {
     "cellMetadata": {
      "byteLimit": 2048000,
      "rowLimit": 10000
     },
     "inputWidgets": {},
     "nuid": "cfa3abf4-55e8-46d6-b40b-2f0d86939449",
     "showTitle": true,
     "tableResultSettingsMap": {},
     "title": "Salvar como tabela delta permanente"
    }
   },
   "outputs": [],
   "source": [
    "#\n",
    "df_ouro.write.format(\"delta\").mode(\"overwrite\").saveAsTable(\"tabela_ouro\")"
   ]
  },
  {
   "cell_type": "markdown",
   "metadata": {
    "application/vnd.databricks.v1+cell": {
     "cellMetadata": {
      "byteLimit": 2048000,
      "rowLimit": 10000
     },
     "inputWidgets": {},
     "nuid": "70c49df8-6dd0-4e82-bc11-f105bd1bf3d3",
     "showTitle": false,
     "tableResultSettingsMap": {},
     "title": ""
    }
   },
   "source": [
    "# **CONSULTAS**"
   ]
  },
  {
   "cell_type": "markdown",
   "metadata": {
    "application/vnd.databricks.v1+cell": {
     "cellMetadata": {},
     "inputWidgets": {},
     "nuid": "58bbc183-59b0-47e8-9aa9-5e0321215fdc",
     "showTitle": false,
     "tableResultSettingsMap": {},
     "title": ""
    }
   },
   "source": [
    "### **AVALIAÇÃO QUALIDADE DOS FILMES POR PLATAFORMA**"
   ]
  },
  {
   "cell_type": "code",
   "execution_count": 0,
   "metadata": {
    "application/vnd.databricks.v1+cell": {
     "cellMetadata": {
      "byteLimit": 2048000,
      "implicitDf": true,
      "rowLimit": 10000
     },
     "inputWidgets": {},
     "nuid": "4c1866e3-80bc-4f50-8ad0-956491c3dd91",
     "showTitle": true,
     "tableResultSettingsMap": {},
     "title": "COMÉDIA"
    }
   },
   "outputs": [
    {
     "output_type": "display_data",
     "data": {
      "text/html": [
       "<style scoped>\n",
       "  .table-result-container {\n",
       "    max-height: 300px;\n",
       "    overflow: auto;\n",
       "  }\n",
       "  table, th, td {\n",
       "    border: 1px solid black;\n",
       "    border-collapse: collapse;\n",
       "  }\n",
       "  th, td {\n",
       "    padding: 5px;\n",
       "  }\n",
       "  th {\n",
       "    text-align: left;\n",
       "  }\n",
       "</style><div class='table-result-container'><table class='table-result'><thead style='background-color: white'><tr><th>plataforma</th><th>preco_mensal_sem_anuncios</th><th>media_imdb</th><th>ranking</th></tr></thead><tbody><tr><td>HBO</td><td>55.9</td><td>6.32</td><td>1</td></tr><tr><td>Hulu</td><td>18.99</td><td>6.28</td><td>2</td></tr><tr><td>Apple TV</td><td>21.9</td><td>6.12</td><td>3</td></tr><tr><td>Netflix</td><td>59.9</td><td>6.0</td><td>4</td></tr><tr><td>Prime Video</td><td>29.9</td><td>5.79</td><td>5</td></tr></tbody></table></div>"
      ]
     },
     "metadata": {
      "application/vnd.databricks.v1+output": {
       "addedWidgets": {},
       "aggData": [],
       "aggError": "",
       "aggOverflow": false,
       "aggSchema": [],
       "aggSeriesLimitReached": false,
       "aggType": "",
       "arguments": {},
       "columnCustomDisplayInfos": {},
       "data": [
        [
         "HBO",
         55.9,
         6.32,
         1
        ],
        [
         "Hulu",
         18.99,
         6.28,
         2
        ],
        [
         "Apple TV",
         21.9,
         6.12,
         3
        ],
        [
         "Netflix",
         59.9,
         6.0,
         4
        ],
        [
         "Prime Video",
         29.9,
         5.79,
         5
        ]
       ],
       "datasetInfos": [],
       "dbfsResultPath": null,
       "isJsonSchema": true,
       "metadata": {},
       "overflow": false,
       "plotOptions": {
        "customPlotOptions": {},
        "displayType": "table",
        "pivotAggregation": null,
        "pivotColumns": null,
        "xColumns": null,
        "yColumns": null
       },
       "removedWidgets": [],
       "schema": [
        {
         "metadata": "{}",
         "name": "plataforma",
         "type": "\"string\""
        },
        {
         "metadata": "{}",
         "name": "preco_mensal_sem_anuncios",
         "type": "\"double\""
        },
        {
         "metadata": "{}",
         "name": "media_imdb",
         "type": "\"double\""
        },
        {
         "metadata": "{}",
         "name": "ranking",
         "type": "\"integer\""
        }
       ],
       "type": "table"
      }
     },
     "output_type": "display_data"
    }
   ],
   "source": [
    "%sql\n",
    "SELECT\n",
    "  f.plataforma,\n",
    "  d.preco_mensal_sem_anuncios,\n",
    "  ROUND(AVG(f.imdbAverageRating), 2) AS media_imdb,\n",
    "  RANK() OVER (ORDER BY AVG(f.imdbAverageRating) DESC) AS ranking\n",
    "FROM tabela_ouro f\n",
    "JOIN dim_plataforma d\n",
    "  ON f.plataforma = d.plataforma\n",
    "WHERE f.type = 'movie' AND f.genres = 'comedy'\n",
    "GROUP BY f.plataforma, d.preco_mensal_sem_anuncios\n",
    "ORDER BY ranking"
   ]
  },
  {
   "cell_type": "code",
   "execution_count": 0,
   "metadata": {
    "application/vnd.databricks.v1+cell": {
     "cellMetadata": {
      "byteLimit": 2048000,
      "implicitDf": true,
      "rowLimit": 10000
     },
     "inputWidgets": {},
     "nuid": "3454ef3f-8665-4012-8acd-fd0670604aa1",
     "showTitle": true,
     "tableResultSettingsMap": {},
     "title": "AÇÃO"
    }
   },
   "outputs": [
    {
     "output_type": "display_data",
     "data": {
      "text/html": [
       "<style scoped>\n",
       "  .table-result-container {\n",
       "    max-height: 300px;\n",
       "    overflow: auto;\n",
       "  }\n",
       "  table, th, td {\n",
       "    border: 1px solid black;\n",
       "    border-collapse: collapse;\n",
       "  }\n",
       "  th, td {\n",
       "    padding: 5px;\n",
       "  }\n",
       "  th {\n",
       "    text-align: left;\n",
       "  }\n",
       "</style><div class='table-result-container'><table class='table-result'><thead style='background-color: white'><tr><th>plataforma</th><th>preco_mensal_sem_anuncios</th><th>media_imdb</th><th>ranking</th></tr></thead><tbody><tr><td>HBO</td><td>55.9</td><td>6.35</td><td>1</td></tr><tr><td>Hulu</td><td>18.99</td><td>6.25</td><td>2</td></tr><tr><td>Netflix</td><td>59.9</td><td>6.12</td><td>3</td></tr><tr><td>Apple TV</td><td>21.9</td><td>5.79</td><td>4</td></tr><tr><td>Prime Video</td><td>29.9</td><td>5.35</td><td>5</td></tr></tbody></table></div>"
      ]
     },
     "metadata": {
      "application/vnd.databricks.v1+output": {
       "addedWidgets": {},
       "aggData": [],
       "aggError": "",
       "aggOverflow": false,
       "aggSchema": [],
       "aggSeriesLimitReached": false,
       "aggType": "",
       "arguments": {},
       "columnCustomDisplayInfos": {},
       "data": [
        [
         "HBO",
         55.9,
         6.35,
         1
        ],
        [
         "Hulu",
         18.99,
         6.25,
         2
        ],
        [
         "Netflix",
         59.9,
         6.12,
         3
        ],
        [
         "Apple TV",
         21.9,
         5.79,
         4
        ],
        [
         "Prime Video",
         29.9,
         5.35,
         5
        ]
       ],
       "datasetInfos": [],
       "dbfsResultPath": null,
       "isJsonSchema": true,
       "metadata": {},
       "overflow": false,
       "plotOptions": {
        "customPlotOptions": {},
        "displayType": "table",
        "pivotAggregation": null,
        "pivotColumns": null,
        "xColumns": null,
        "yColumns": null
       },
       "removedWidgets": [],
       "schema": [
        {
         "metadata": "{}",
         "name": "plataforma",
         "type": "\"string\""
        },
        {
         "metadata": "{}",
         "name": "preco_mensal_sem_anuncios",
         "type": "\"double\""
        },
        {
         "metadata": "{}",
         "name": "media_imdb",
         "type": "\"double\""
        },
        {
         "metadata": "{}",
         "name": "ranking",
         "type": "\"integer\""
        }
       ],
       "type": "table"
      }
     },
     "output_type": "display_data"
    }
   ],
   "source": [
    "%sql\n",
    "SELECT\n",
    "  f.plataforma,\n",
    "  d.preco_mensal_sem_anuncios,\n",
    "  ROUND(AVG(f.imdbAverageRating), 2) AS media_imdb,\n",
    "  RANK() OVER (ORDER BY AVG(f.imdbAverageRating) DESC) AS ranking\n",
    "FROM tabela_ouro f\n",
    "JOIN dim_plataforma d\n",
    "  ON f.plataforma = d.plataforma\n",
    "WHERE f.type = 'movie' AND f.genres = 'action'\n",
    "GROUP BY f.plataforma, d.preco_mensal_sem_anuncios\n",
    "ORDER BY ranking"
   ]
  },
  {
   "cell_type": "code",
   "execution_count": 0,
   "metadata": {
    "application/vnd.databricks.v1+cell": {
     "cellMetadata": {
      "byteLimit": 2048000,
      "implicitDf": true,
      "rowLimit": 10000
     },
     "inputWidgets": {},
     "nuid": "5784236b-9155-4bdb-bf7e-532e2a9e5d2a",
     "showTitle": true,
     "tableResultSettingsMap": {},
     "title": "DRAMA"
    }
   },
   "outputs": [
    {
     "output_type": "display_data",
     "data": {
      "text/html": [
       "<style scoped>\n",
       "  .table-result-container {\n",
       "    max-height: 300px;\n",
       "    overflow: auto;\n",
       "  }\n",
       "  table, th, td {\n",
       "    border: 1px solid black;\n",
       "    border-collapse: collapse;\n",
       "  }\n",
       "  th, td {\n",
       "    padding: 5px;\n",
       "  }\n",
       "  th {\n",
       "    text-align: left;\n",
       "  }\n",
       "</style><div class='table-result-container'><table class='table-result'><thead style='background-color: white'><tr><th>plataforma</th><th>preco_mensal_sem_anuncios</th><th>media_imdb</th><th>ranking</th></tr></thead><tbody><tr><td>HBO</td><td>55.9</td><td>6.7</td><td>1</td></tr><tr><td>Hulu</td><td>18.99</td><td>6.47</td><td>2</td></tr><tr><td>Netflix</td><td>59.9</td><td>6.4</td><td>3</td></tr><tr><td>Apple TV</td><td>21.9</td><td>6.35</td><td>4</td></tr><tr><td>Prime Video</td><td>29.9</td><td>6.04</td><td>5</td></tr></tbody></table></div>"
      ]
     },
     "metadata": {
      "application/vnd.databricks.v1+output": {
       "addedWidgets": {},
       "aggData": [],
       "aggError": "",
       "aggOverflow": false,
       "aggSchema": [],
       "aggSeriesLimitReached": false,
       "aggType": "",
       "arguments": {},
       "columnCustomDisplayInfos": {},
       "data": [
        [
         "HBO",
         55.9,
         6.7,
         1
        ],
        [
         "Hulu",
         18.99,
         6.47,
         2
        ],
        [
         "Netflix",
         59.9,
         6.4,
         3
        ],
        [
         "Apple TV",
         21.9,
         6.35,
         4
        ],
        [
         "Prime Video",
         29.9,
         6.04,
         5
        ]
       ],
       "datasetInfos": [],
       "dbfsResultPath": null,
       "isJsonSchema": true,
       "metadata": {},
       "overflow": false,
       "plotOptions": {
        "customPlotOptions": {},
        "displayType": "table",
        "pivotAggregation": null,
        "pivotColumns": null,
        "xColumns": null,
        "yColumns": null
       },
       "removedWidgets": [],
       "schema": [
        {
         "metadata": "{}",
         "name": "plataforma",
         "type": "\"string\""
        },
        {
         "metadata": "{}",
         "name": "preco_mensal_sem_anuncios",
         "type": "\"double\""
        },
        {
         "metadata": "{}",
         "name": "media_imdb",
         "type": "\"double\""
        },
        {
         "metadata": "{}",
         "name": "ranking",
         "type": "\"integer\""
        }
       ],
       "type": "table"
      }
     },
     "output_type": "display_data"
    }
   ],
   "source": [
    "%sql\n",
    "SELECT\n",
    "  f.plataforma,\n",
    "  d.preco_mensal_sem_anuncios,\n",
    "  ROUND(AVG(f.imdbAverageRating), 2) AS media_imdb,\n",
    "  RANK() OVER (ORDER BY AVG(f.imdbAverageRating) DESC) AS ranking\n",
    "FROM tabela_ouro f\n",
    "JOIN dim_plataforma d\n",
    "  ON f.plataforma = d.plataforma\n",
    "WHERE f.type = 'movie' AND f.genres = 'drama'\n",
    "GROUP BY f.plataforma, d.preco_mensal_sem_anuncios\n",
    "ORDER BY ranking"
   ]
  },
  {
   "cell_type": "code",
   "execution_count": 0,
   "metadata": {
    "application/vnd.databricks.v1+cell": {
     "cellMetadata": {
      "byteLimit": 2048000,
      "implicitDf": true,
      "rowLimit": 10000
     },
     "inputWidgets": {},
     "nuid": "41ff79b0-34f3-4e9f-bd59-18257f8369ee",
     "showTitle": true,
     "tableResultSettingsMap": {},
     "title": "HORROR"
    }
   },
   "outputs": [
    {
     "output_type": "display_data",
     "data": {
      "text/html": [
       "<style scoped>\n",
       "  .table-result-container {\n",
       "    max-height: 300px;\n",
       "    overflow: auto;\n",
       "  }\n",
       "  table, th, td {\n",
       "    border: 1px solid black;\n",
       "    border-collapse: collapse;\n",
       "  }\n",
       "  th, td {\n",
       "    padding: 5px;\n",
       "  }\n",
       "  th {\n",
       "    text-align: left;\n",
       "  }\n",
       "</style><div class='table-result-container'><table class='table-result'><thead style='background-color: white'><tr><th>plataforma</th><th>preco_mensal_sem_anuncios</th><th>media_imdb</th><th>ranking</th></tr></thead><tbody><tr><td>HBO</td><td>55.9</td><td>6.01</td><td>1</td></tr><tr><td>Hulu</td><td>18.99</td><td>5.54</td><td>2</td></tr><tr><td>Apple TV</td><td>21.9</td><td>5.5</td><td>3</td></tr><tr><td>Netflix</td><td>59.9</td><td>5.5</td><td>4</td></tr><tr><td>Prime Video</td><td>29.9</td><td>4.62</td><td>5</td></tr></tbody></table></div>"
      ]
     },
     "metadata": {
      "application/vnd.databricks.v1+output": {
       "addedWidgets": {},
       "aggData": [],
       "aggError": "",
       "aggOverflow": false,
       "aggSchema": [],
       "aggSeriesLimitReached": false,
       "aggType": "",
       "arguments": {},
       "columnCustomDisplayInfos": {},
       "data": [
        [
         "HBO",
         55.9,
         6.01,
         1
        ],
        [
         "Hulu",
         18.99,
         5.54,
         2
        ],
        [
         "Apple TV",
         21.9,
         5.5,
         3
        ],
        [
         "Netflix",
         59.9,
         5.5,
         4
        ],
        [
         "Prime Video",
         29.9,
         4.62,
         5
        ]
       ],
       "datasetInfos": [],
       "dbfsResultPath": null,
       "isJsonSchema": true,
       "metadata": {},
       "overflow": false,
       "plotOptions": {
        "customPlotOptions": {},
        "displayType": "table",
        "pivotAggregation": null,
        "pivotColumns": null,
        "xColumns": null,
        "yColumns": null
       },
       "removedWidgets": [],
       "schema": [
        {
         "metadata": "{}",
         "name": "plataforma",
         "type": "\"string\""
        },
        {
         "metadata": "{}",
         "name": "preco_mensal_sem_anuncios",
         "type": "\"double\""
        },
        {
         "metadata": "{}",
         "name": "media_imdb",
         "type": "\"double\""
        },
        {
         "metadata": "{}",
         "name": "ranking",
         "type": "\"integer\""
        }
       ],
       "type": "table"
      }
     },
     "output_type": "display_data"
    }
   ],
   "source": [
    "%sql\n",
    "SELECT\n",
    "  f.plataforma,\n",
    "  d.preco_mensal_sem_anuncios,\n",
    "  ROUND(AVG(f.imdbAverageRating), 2) AS media_imdb,\n",
    "  RANK() OVER (ORDER BY AVG(f.imdbAverageRating) DESC) AS ranking\n",
    "FROM tabela_ouro f\n",
    "JOIN dim_plataforma d\n",
    "  ON f.plataforma = d.plataforma\n",
    "WHERE f.type = 'movie' AND f.genres = 'horror'\n",
    "GROUP BY f.plataforma, d.preco_mensal_sem_anuncios\n",
    "ORDER BY ranking"
   ]
  },
  {
   "cell_type": "code",
   "execution_count": 0,
   "metadata": {
    "application/vnd.databricks.v1+cell": {
     "cellMetadata": {
      "byteLimit": 2048000,
      "implicitDf": true,
      "rowLimit": 10000
     },
     "inputWidgets": {},
     "nuid": "dcce0c87-2968-43c0-9259-52d2958cdddc",
     "showTitle": true,
     "tableResultSettingsMap": {},
     "title": "ROMANCE"
    }
   },
   "outputs": [
    {
     "output_type": "display_data",
     "data": {
      "text/html": [
       "<style scoped>\n",
       "  .table-result-container {\n",
       "    max-height: 300px;\n",
       "    overflow: auto;\n",
       "  }\n",
       "  table, th, td {\n",
       "    border: 1px solid black;\n",
       "    border-collapse: collapse;\n",
       "  }\n",
       "  th, td {\n",
       "    padding: 5px;\n",
       "  }\n",
       "  th {\n",
       "    text-align: left;\n",
       "  }\n",
       "</style><div class='table-result-container'><table class='table-result'><thead style='background-color: white'><tr><th>plataforma</th><th>preco_mensal_sem_anuncios</th><th>media_imdb</th><th>ranking</th></tr></thead><tbody><tr><td>HBO</td><td>55.9</td><td>6.48</td><td>1</td></tr><tr><td>Hulu</td><td>18.99</td><td>6.33</td><td>2</td></tr><tr><td>Apple TV</td><td>21.9</td><td>6.28</td><td>3</td></tr><tr><td>Netflix</td><td>59.9</td><td>6.16</td><td>4</td></tr><tr><td>Prime Video</td><td>29.9</td><td>6.03</td><td>5</td></tr></tbody></table></div>"
      ]
     },
     "metadata": {
      "application/vnd.databricks.v1+output": {
       "addedWidgets": {},
       "aggData": [],
       "aggError": "",
       "aggOverflow": false,
       "aggSchema": [],
       "aggSeriesLimitReached": false,
       "aggType": "",
       "arguments": {},
       "columnCustomDisplayInfos": {},
       "data": [
        [
         "HBO",
         55.9,
         6.48,
         1
        ],
        [
         "Hulu",
         18.99,
         6.33,
         2
        ],
        [
         "Apple TV",
         21.9,
         6.28,
         3
        ],
        [
         "Netflix",
         59.9,
         6.16,
         4
        ],
        [
         "Prime Video",
         29.9,
         6.03,
         5
        ]
       ],
       "datasetInfos": [],
       "dbfsResultPath": null,
       "isJsonSchema": true,
       "metadata": {},
       "overflow": false,
       "plotOptions": {
        "customPlotOptions": {},
        "displayType": "table",
        "pivotAggregation": null,
        "pivotColumns": null,
        "xColumns": null,
        "yColumns": null
       },
       "removedWidgets": [],
       "schema": [
        {
         "metadata": "{}",
         "name": "plataforma",
         "type": "\"string\""
        },
        {
         "metadata": "{}",
         "name": "preco_mensal_sem_anuncios",
         "type": "\"double\""
        },
        {
         "metadata": "{}",
         "name": "media_imdb",
         "type": "\"double\""
        },
        {
         "metadata": "{}",
         "name": "ranking",
         "type": "\"integer\""
        }
       ],
       "type": "table"
      }
     },
     "output_type": "display_data"
    }
   ],
   "source": [
    "%sql\n",
    "SELECT\n",
    "  f.plataforma,\n",
    "  d.preco_mensal_sem_anuncios,\n",
    "  ROUND(AVG(f.imdbAverageRating), 2) AS media_imdb,\n",
    "  RANK() OVER (ORDER BY AVG(f.imdbAverageRating) DESC) AS ranking\n",
    "FROM tabela_ouro f\n",
    "JOIN dim_plataforma d\n",
    "  ON f.plataforma = d.plataforma\n",
    "WHERE f.type = 'movie' AND f.genres = 'romance'\n",
    "GROUP BY f.plataforma, d.preco_mensal_sem_anuncios\n",
    "ORDER BY ranking"
   ]
  },
  {
   "cell_type": "code",
   "execution_count": 0,
   "metadata": {
    "application/vnd.databricks.v1+cell": {
     "cellMetadata": {
      "byteLimit": 2048000,
      "implicitDf": true,
      "rowLimit": 10000
     },
     "inputWidgets": {},
     "nuid": "8b70d221-7f01-474b-b231-de6cace07f2b",
     "showTitle": true,
     "tableResultSettingsMap": {},
     "title": "SUSPENSE"
    }
   },
   "outputs": [
    {
     "output_type": "display_data",
     "data": {
      "text/html": [
       "<style scoped>\n",
       "  .table-result-container {\n",
       "    max-height: 300px;\n",
       "    overflow: auto;\n",
       "  }\n",
       "  table, th, td {\n",
       "    border: 1px solid black;\n",
       "    border-collapse: collapse;\n",
       "  }\n",
       "  th, td {\n",
       "    padding: 5px;\n",
       "  }\n",
       "  th {\n",
       "    text-align: left;\n",
       "  }\n",
       "</style><div class='table-result-container'><table class='table-result'><thead style='background-color: white'><tr><th>plataforma</th><th>preco_mensal_sem_anuncios</th><th>media_imdb</th><th>ranking</th></tr></thead><tbody><tr><td>HBO</td><td>55.9</td><td>6.28</td><td>1</td></tr><tr><td>Netflix</td><td>59.9</td><td>5.94</td><td>2</td></tr><tr><td>Hulu</td><td>18.99</td><td>5.89</td><td>3</td></tr><tr><td>Apple TV</td><td>21.9</td><td>5.7</td><td>4</td></tr><tr><td>Prime Video</td><td>29.9</td><td>5.23</td><td>5</td></tr></tbody></table></div>"
      ]
     },
     "metadata": {
      "application/vnd.databricks.v1+output": {
       "addedWidgets": {},
       "aggData": [],
       "aggError": "",
       "aggOverflow": false,
       "aggSchema": [],
       "aggSeriesLimitReached": false,
       "aggType": "",
       "arguments": {},
       "columnCustomDisplayInfos": {},
       "data": [
        [
         "HBO",
         55.9,
         6.28,
         1
        ],
        [
         "Netflix",
         59.9,
         5.94,
         2
        ],
        [
         "Hulu",
         18.99,
         5.89,
         3
        ],
        [
         "Apple TV",
         21.9,
         5.7,
         4
        ],
        [
         "Prime Video",
         29.9,
         5.23,
         5
        ]
       ],
       "datasetInfos": [],
       "dbfsResultPath": null,
       "isJsonSchema": true,
       "metadata": {},
       "overflow": false,
       "plotOptions": {
        "customPlotOptions": {},
        "displayType": "table",
        "pivotAggregation": null,
        "pivotColumns": null,
        "xColumns": null,
        "yColumns": null
       },
       "removedWidgets": [],
       "schema": [
        {
         "metadata": "{}",
         "name": "plataforma",
         "type": "\"string\""
        },
        {
         "metadata": "{}",
         "name": "preco_mensal_sem_anuncios",
         "type": "\"double\""
        },
        {
         "metadata": "{}",
         "name": "media_imdb",
         "type": "\"double\""
        },
        {
         "metadata": "{}",
         "name": "ranking",
         "type": "\"integer\""
        }
       ],
       "type": "table"
      }
     },
     "output_type": "display_data"
    }
   ],
   "source": [
    "%sql\n",
    "SELECT\n",
    "  f.plataforma,\n",
    "  d.preco_mensal_sem_anuncios,\n",
    "  ROUND(AVG(f.imdbAverageRating), 2) AS media_imdb,\n",
    "  RANK() OVER (ORDER BY AVG(f.imdbAverageRating) DESC) AS ranking\n",
    "FROM tabela_ouro f\n",
    "JOIN dim_plataforma d\n",
    "  ON f.plataforma = d.plataforma\n",
    "WHERE f.type = 'movie' AND f.genres = 'thriller'\n",
    "GROUP BY f.plataforma, d.preco_mensal_sem_anuncios\n",
    "ORDER BY ranking"
   ]
  },
  {
   "cell_type": "code",
   "execution_count": 0,
   "metadata": {
    "application/vnd.databricks.v1+cell": {
     "cellMetadata": {
      "byteLimit": 2048000,
      "implicitDf": true,
      "rowLimit": 10000
     },
     "inputWidgets": {},
     "nuid": "c0d1f8be-5198-4c74-89f5-26a3f8ddfb51",
     "showTitle": true,
     "tableResultSettingsMap": {},
     "title": "FICÇÃO CIENTÍFICA"
    }
   },
   "outputs": [
    {
     "output_type": "display_data",
     "data": {
      "text/html": [
       "<style scoped>\n",
       "  .table-result-container {\n",
       "    max-height: 300px;\n",
       "    overflow: auto;\n",
       "  }\n",
       "  table, th, td {\n",
       "    border: 1px solid black;\n",
       "    border-collapse: collapse;\n",
       "  }\n",
       "  th, td {\n",
       "    padding: 5px;\n",
       "  }\n",
       "  th {\n",
       "    text-align: left;\n",
       "  }\n",
       "</style><div class='table-result-container'><table class='table-result'><thead style='background-color: white'><tr><th>plataforma</th><th>preco_mensal_sem_anuncios</th><th>media_imdb</th><th>ranking</th></tr></thead><tbody><tr><td>HBO</td><td>55.9</td><td>6.43</td><td>1</td></tr><tr><td>Netflix</td><td>59.9</td><td>6.05</td><td>2</td></tr><tr><td>Hulu</td><td>18.99</td><td>6.02</td><td>3</td></tr><tr><td>Apple TV</td><td>21.9</td><td>5.67</td><td>4</td></tr><tr><td>Prime Video</td><td>29.9</td><td>4.89</td><td>5</td></tr></tbody></table></div>"
      ]
     },
     "metadata": {
      "application/vnd.databricks.v1+output": {
       "addedWidgets": {},
       "aggData": [],
       "aggError": "",
       "aggOverflow": false,
       "aggSchema": [],
       "aggSeriesLimitReached": false,
       "aggType": "",
       "arguments": {},
       "columnCustomDisplayInfos": {},
       "data": [
        [
         "HBO",
         55.9,
         6.43,
         1
        ],
        [
         "Netflix",
         59.9,
         6.05,
         2
        ],
        [
         "Hulu",
         18.99,
         6.02,
         3
        ],
        [
         "Apple TV",
         21.9,
         5.67,
         4
        ],
        [
         "Prime Video",
         29.9,
         4.89,
         5
        ]
       ],
       "datasetInfos": [],
       "dbfsResultPath": null,
       "isJsonSchema": true,
       "metadata": {},
       "overflow": false,
       "plotOptions": {
        "customPlotOptions": {},
        "displayType": "table",
        "pivotAggregation": null,
        "pivotColumns": null,
        "xColumns": null,
        "yColumns": null
       },
       "removedWidgets": [],
       "schema": [
        {
         "metadata": "{}",
         "name": "plataforma",
         "type": "\"string\""
        },
        {
         "metadata": "{}",
         "name": "preco_mensal_sem_anuncios",
         "type": "\"double\""
        },
        {
         "metadata": "{}",
         "name": "media_imdb",
         "type": "\"double\""
        },
        {
         "metadata": "{}",
         "name": "ranking",
         "type": "\"integer\""
        }
       ],
       "type": "table"
      }
     },
     "output_type": "display_data"
    }
   ],
   "source": [
    "%sql\n",
    "SELECT\n",
    "  f.plataforma,\n",
    "  d.preco_mensal_sem_anuncios,\n",
    "  ROUND(AVG(f.imdbAverageRating), 2) AS media_imdb,\n",
    "  RANK() OVER (ORDER BY AVG(f.imdbAverageRating) DESC) AS ranking\n",
    "FROM tabela_ouro f\n",
    "JOIN dim_plataforma d\n",
    "  ON f.plataforma = d.plataforma\n",
    "WHERE f.type = 'movie' AND f.genres = 'sci fi'\n",
    "GROUP BY f.plataforma, d.preco_mensal_sem_anuncios\n",
    "ORDER BY ranking"
   ]
  },
  {
   "cell_type": "markdown",
   "metadata": {
    "application/vnd.databricks.v1+cell": {
     "cellMetadata": {},
     "inputWidgets": {},
     "nuid": "6ffee25d-b052-4d22-a9f5-e9160f2d1a0d",
     "showTitle": false,
     "tableResultSettingsMap": {},
     "title": ""
    }
   },
   "source": [
    "### **AVALIAÇÃO QUALIDADE DAS SÉRIES POR PLATAFORMA**\n"
   ]
  },
  {
   "cell_type": "code",
   "execution_count": 0,
   "metadata": {
    "application/vnd.databricks.v1+cell": {
     "cellMetadata": {
      "byteLimit": 2048000,
      "implicitDf": true,
      "rowLimit": 10000
     },
     "inputWidgets": {},
     "nuid": "f0543b0e-cdaa-4607-ad95-f90701be1ef6",
     "showTitle": false,
     "tableResultSettingsMap": {},
     "title": ""
    }
   },
   "outputs": [
    {
     "output_type": "display_data",
     "data": {
      "text/html": [
       "<style scoped>\n",
       "  .table-result-container {\n",
       "    max-height: 300px;\n",
       "    overflow: auto;\n",
       "  }\n",
       "  table, th, td {\n",
       "    border: 1px solid black;\n",
       "    border-collapse: collapse;\n",
       "  }\n",
       "  th, td {\n",
       "    padding: 5px;\n",
       "  }\n",
       "  th {\n",
       "    text-align: left;\n",
       "  }\n",
       "</style><div class='table-result-container'><table class='table-result'><thead style='background-color: white'><tr><th>plataforma</th><th>preco_mensal_sem_anuncios</th><th>media_imdb</th><th>ranking</th></tr></thead><tbody><tr><td>HBO</td><td>55.9</td><td>7.17</td><td>1</td></tr><tr><td>Netflix</td><td>59.9</td><td>7.14</td><td>2</td></tr><tr><td>Hulu</td><td>18.99</td><td>7.12</td><td>3</td></tr><tr><td>Apple TV</td><td>21.9</td><td>7.05</td><td>4</td></tr><tr><td>Prime Video</td><td>29.9</td><td>7.01</td><td>5</td></tr></tbody></table></div>"
      ]
     },
     "metadata": {
      "application/vnd.databricks.v1+output": {
       "addedWidgets": {},
       "aggData": [],
       "aggError": "",
       "aggOverflow": false,
       "aggSchema": [],
       "aggSeriesLimitReached": false,
       "aggType": "",
       "arguments": {},
       "columnCustomDisplayInfos": {},
       "data": [
        [
         "HBO",
         55.9,
         7.17,
         1
        ],
        [
         "Netflix",
         59.9,
         7.14,
         2
        ],
        [
         "Hulu",
         18.99,
         7.12,
         3
        ],
        [
         "Apple TV",
         21.9,
         7.05,
         4
        ],
        [
         "Prime Video",
         29.9,
         7.01,
         5
        ]
       ],
       "datasetInfos": [],
       "dbfsResultPath": null,
       "isJsonSchema": true,
       "metadata": {},
       "overflow": false,
       "plotOptions": {
        "customPlotOptions": {},
        "displayType": "table",
        "pivotAggregation": null,
        "pivotColumns": null,
        "xColumns": null,
        "yColumns": null
       },
       "removedWidgets": [],
       "schema": [
        {
         "metadata": "{}",
         "name": "plataforma",
         "type": "\"string\""
        },
        {
         "metadata": "{}",
         "name": "preco_mensal_sem_anuncios",
         "type": "\"double\""
        },
        {
         "metadata": "{}",
         "name": "media_imdb",
         "type": "\"double\""
        },
        {
         "metadata": "{}",
         "name": "ranking",
         "type": "\"integer\""
        }
       ],
       "type": "table"
      }
     },
     "output_type": "display_data"
    }
   ],
   "source": [
    "%sql\n",
    "SELECT\n",
    "  f.plataforma,\n",
    "  d.preco_mensal_sem_anuncios,\n",
    "  ROUND(AVG(f.imdbAverageRating), 2) AS media_imdb,\n",
    "  RANK() OVER (ORDER BY AVG(f.imdbAverageRating) DESC) AS ranking\n",
    "FROM tabela_ouro f\n",
    "JOIN dim_plataforma d\n",
    "  ON f.plataforma = d.plataforma\n",
    "WHERE f.type = 'tv' AND f.genres = 'comedy'\n",
    "GROUP BY f.plataforma, d.preco_mensal_sem_anuncios\n",
    "ORDER BY ranking"
   ]
  },
  {
   "cell_type": "code",
   "execution_count": 0,
   "metadata": {
    "application/vnd.databricks.v1+cell": {
     "cellMetadata": {
      "byteLimit": 2048000,
      "implicitDf": true,
      "rowLimit": 10000
     },
     "inputWidgets": {},
     "nuid": "6f4d729a-2c29-45f2-8735-aced13100c1b",
     "showTitle": false,
     "tableResultSettingsMap": {},
     "title": ""
    }
   },
   "outputs": [
    {
     "output_type": "display_data",
     "data": {
      "text/html": [
       "<style scoped>\n",
       "  .table-result-container {\n",
       "    max-height: 300px;\n",
       "    overflow: auto;\n",
       "  }\n",
       "  table, th, td {\n",
       "    border: 1px solid black;\n",
       "    border-collapse: collapse;\n",
       "  }\n",
       "  th, td {\n",
       "    padding: 5px;\n",
       "  }\n",
       "  th {\n",
       "    text-align: left;\n",
       "  }\n",
       "</style><div class='table-result-container'><table class='table-result'><thead style='background-color: white'><tr><th>plataforma</th><th>preco_mensal_sem_anuncios</th><th>media_imdb</th><th>ranking</th></tr></thead><tbody><tr><td>HBO</td><td>55.9</td><td>7.41</td><td>1</td></tr><tr><td>Netflix</td><td>59.9</td><td>7.19</td><td>2</td></tr><tr><td>Hulu</td><td>18.99</td><td>7.07</td><td>3</td></tr><tr><td>Prime Video</td><td>29.9</td><td>6.98</td><td>4</td></tr><tr><td>Apple TV</td><td>21.9</td><td>6.97</td><td>5</td></tr></tbody></table></div>"
      ]
     },
     "metadata": {
      "application/vnd.databricks.v1+output": {
       "addedWidgets": {},
       "aggData": [],
       "aggError": "",
       "aggOverflow": false,
       "aggSchema": [],
       "aggSeriesLimitReached": false,
       "aggType": "",
       "arguments": {},
       "columnCustomDisplayInfos": {},
       "data": [
        [
         "HBO",
         55.9,
         7.41,
         1
        ],
        [
         "Netflix",
         59.9,
         7.19,
         2
        ],
        [
         "Hulu",
         18.99,
         7.07,
         3
        ],
        [
         "Prime Video",
         29.9,
         6.98,
         4
        ],
        [
         "Apple TV",
         21.9,
         6.97,
         5
        ]
       ],
       "datasetInfos": [],
       "dbfsResultPath": null,
       "isJsonSchema": true,
       "metadata": {},
       "overflow": false,
       "plotOptions": {
        "customPlotOptions": {},
        "displayType": "table",
        "pivotAggregation": null,
        "pivotColumns": null,
        "xColumns": null,
        "yColumns": null
       },
       "removedWidgets": [],
       "schema": [
        {
         "metadata": "{}",
         "name": "plataforma",
         "type": "\"string\""
        },
        {
         "metadata": "{}",
         "name": "preco_mensal_sem_anuncios",
         "type": "\"double\""
        },
        {
         "metadata": "{}",
         "name": "media_imdb",
         "type": "\"double\""
        },
        {
         "metadata": "{}",
         "name": "ranking",
         "type": "\"integer\""
        }
       ],
       "type": "table"
      }
     },
     "output_type": "display_data"
    }
   ],
   "source": [
    "%sql\n",
    "SELECT\n",
    "  f.plataforma,\n",
    "  d.preco_mensal_sem_anuncios,\n",
    "  ROUND(AVG(f.imdbAverageRating), 2) AS media_imdb,\n",
    "  RANK() OVER (ORDER BY AVG(f.imdbAverageRating) DESC) AS ranking\n",
    "FROM tabela_ouro f\n",
    "JOIN dim_plataforma d\n",
    "  ON f.plataforma = d.plataforma\n",
    "WHERE f.type = 'tv' AND f.genres = 'action'\n",
    "GROUP BY f.plataforma, d.preco_mensal_sem_anuncios\n",
    "ORDER BY ranking"
   ]
  },
  {
   "cell_type": "code",
   "execution_count": 0,
   "metadata": {
    "application/vnd.databricks.v1+cell": {
     "cellMetadata": {
      "byteLimit": 2048000,
      "implicitDf": true,
      "rowLimit": 10000
     },
     "inputWidgets": {},
     "nuid": "ea79dbe0-544b-4e44-aeb2-01b8bbab1f12",
     "showTitle": false,
     "tableResultSettingsMap": {},
     "title": ""
    }
   },
   "outputs": [
    {
     "output_type": "display_data",
     "data": {
      "text/html": [
       "<style scoped>\n",
       "  .table-result-container {\n",
       "    max-height: 300px;\n",
       "    overflow: auto;\n",
       "  }\n",
       "  table, th, td {\n",
       "    border: 1px solid black;\n",
       "    border-collapse: collapse;\n",
       "  }\n",
       "  th, td {\n",
       "    padding: 5px;\n",
       "  }\n",
       "  th {\n",
       "    text-align: left;\n",
       "  }\n",
       "</style><div class='table-result-container'><table class='table-result'><thead style='background-color: white'><tr><th>plataforma</th><th>preco_mensal_sem_anuncios</th><th>media_imdb</th><th>ranking</th></tr></thead><tbody><tr><td>HBO</td><td>55.9</td><td>7.23</td><td>1</td></tr><tr><td>Hulu</td><td>18.99</td><td>7.22</td><td>2</td></tr><tr><td>Netflix</td><td>59.9</td><td>7.19</td><td>3</td></tr><tr><td>Prime Video</td><td>29.9</td><td>7.18</td><td>4</td></tr><tr><td>Apple TV</td><td>21.9</td><td>7.16</td><td>5</td></tr></tbody></table></div>"
      ]
     },
     "metadata": {
      "application/vnd.databricks.v1+output": {
       "addedWidgets": {},
       "aggData": [],
       "aggError": "",
       "aggOverflow": false,
       "aggSchema": [],
       "aggSeriesLimitReached": false,
       "aggType": "",
       "arguments": {},
       "columnCustomDisplayInfos": {},
       "data": [
        [
         "HBO",
         55.9,
         7.23,
         1
        ],
        [
         "Hulu",
         18.99,
         7.22,
         2
        ],
        [
         "Netflix",
         59.9,
         7.19,
         3
        ],
        [
         "Prime Video",
         29.9,
         7.18,
         4
        ],
        [
         "Apple TV",
         21.9,
         7.16,
         5
        ]
       ],
       "datasetInfos": [],
       "dbfsResultPath": null,
       "isJsonSchema": true,
       "metadata": {},
       "overflow": false,
       "plotOptions": {
        "customPlotOptions": {},
        "displayType": "table",
        "pivotAggregation": null,
        "pivotColumns": null,
        "xColumns": null,
        "yColumns": null
       },
       "removedWidgets": [],
       "schema": [
        {
         "metadata": "{}",
         "name": "plataforma",
         "type": "\"string\""
        },
        {
         "metadata": "{}",
         "name": "preco_mensal_sem_anuncios",
         "type": "\"double\""
        },
        {
         "metadata": "{}",
         "name": "media_imdb",
         "type": "\"double\""
        },
        {
         "metadata": "{}",
         "name": "ranking",
         "type": "\"integer\""
        }
       ],
       "type": "table"
      }
     },
     "output_type": "display_data"
    }
   ],
   "source": [
    "%sql\n",
    "SELECT\n",
    "  f.plataforma,\n",
    "  d.preco_mensal_sem_anuncios,\n",
    "  ROUND(AVG(f.imdbAverageRating), 2) AS media_imdb,\n",
    "  RANK() OVER (ORDER BY AVG(f.imdbAverageRating) DESC) AS ranking\n",
    "FROM tabela_ouro f\n",
    "JOIN dim_plataforma d\n",
    "  ON f.plataforma = d.plataforma\n",
    "WHERE f.type = 'tv' AND f.genres = 'drama'\n",
    "GROUP BY f.plataforma, d.preco_mensal_sem_anuncios\n",
    "ORDER BY ranking"
   ]
  },
  {
   "cell_type": "code",
   "execution_count": 0,
   "metadata": {
    "application/vnd.databricks.v1+cell": {
     "cellMetadata": {
      "byteLimit": 2048000,
      "implicitDf": true,
      "rowLimit": 10000
     },
     "inputWidgets": {},
     "nuid": "c401b2ea-c197-4452-8673-393f211adf04",
     "showTitle": false,
     "tableResultSettingsMap": {},
     "title": ""
    }
   },
   "outputs": [
    {
     "output_type": "display_data",
     "data": {
      "text/html": [
       "<style scoped>\n",
       "  .table-result-container {\n",
       "    max-height: 300px;\n",
       "    overflow: auto;\n",
       "  }\n",
       "  table, th, td {\n",
       "    border: 1px solid black;\n",
       "    border-collapse: collapse;\n",
       "  }\n",
       "  th, td {\n",
       "    padding: 5px;\n",
       "  }\n",
       "  th {\n",
       "    text-align: left;\n",
       "  }\n",
       "</style><div class='table-result-container'><table class='table-result'><thead style='background-color: white'><tr><th>plataforma</th><th>preco_mensal_sem_anuncios</th><th>media_imdb</th><th>ranking</th></tr></thead><tbody><tr><td>Apple TV</td><td>21.9</td><td>6.92</td><td>1</td></tr><tr><td>Hulu</td><td>18.99</td><td>6.88</td><td>2</td></tr><tr><td>Prime Video</td><td>29.9</td><td>6.76</td><td>3</td></tr><tr><td>HBO</td><td>55.9</td><td>6.75</td><td>4</td></tr><tr><td>Netflix</td><td>59.9</td><td>6.72</td><td>5</td></tr></tbody></table></div>"
      ]
     },
     "metadata": {
      "application/vnd.databricks.v1+output": {
       "addedWidgets": {},
       "aggData": [],
       "aggError": "",
       "aggOverflow": false,
       "aggSchema": [],
       "aggSeriesLimitReached": false,
       "aggType": "",
       "arguments": {},
       "columnCustomDisplayInfos": {},
       "data": [
        [
         "Apple TV",
         21.9,
         6.92,
         1
        ],
        [
         "Hulu",
         18.99,
         6.88,
         2
        ],
        [
         "Prime Video",
         29.9,
         6.76,
         3
        ],
        [
         "HBO",
         55.9,
         6.75,
         4
        ],
        [
         "Netflix",
         59.9,
         6.72,
         5
        ]
       ],
       "datasetInfos": [],
       "dbfsResultPath": null,
       "isJsonSchema": true,
       "metadata": {},
       "overflow": false,
       "plotOptions": {
        "customPlotOptions": {},
        "displayType": "table",
        "pivotAggregation": null,
        "pivotColumns": null,
        "xColumns": null,
        "yColumns": null
       },
       "removedWidgets": [],
       "schema": [
        {
         "metadata": "{}",
         "name": "plataforma",
         "type": "\"string\""
        },
        {
         "metadata": "{}",
         "name": "preco_mensal_sem_anuncios",
         "type": "\"double\""
        },
        {
         "metadata": "{}",
         "name": "media_imdb",
         "type": "\"double\""
        },
        {
         "metadata": "{}",
         "name": "ranking",
         "type": "\"integer\""
        }
       ],
       "type": "table"
      }
     },
     "output_type": "display_data"
    }
   ],
   "source": [
    "%sql\n",
    "SELECT\n",
    "  f.plataforma,\n",
    "  d.preco_mensal_sem_anuncios,\n",
    "  ROUND(AVG(f.imdbAverageRating), 2) AS media_imdb,\n",
    "  RANK() OVER (ORDER BY AVG(f.imdbAverageRating) DESC) AS ranking\n",
    "FROM tabela_ouro f\n",
    "JOIN dim_plataforma d\n",
    "  ON f.plataforma = d.plataforma\n",
    "WHERE f.type = 'tv' AND f.genres = 'horror'\n",
    "GROUP BY f.plataforma, d.preco_mensal_sem_anuncios\n",
    "ORDER BY ranking"
   ]
  },
  {
   "cell_type": "code",
   "execution_count": 0,
   "metadata": {
    "application/vnd.databricks.v1+cell": {
     "cellMetadata": {
      "byteLimit": 2048000,
      "implicitDf": true,
      "rowLimit": 10000
     },
     "inputWidgets": {},
     "nuid": "027bde10-97fd-47d8-9e1a-9e3b773112d6",
     "showTitle": false,
     "tableResultSettingsMap": {},
     "title": ""
    }
   },
   "outputs": [
    {
     "output_type": "display_data",
     "data": {
      "text/html": [
       "<style scoped>\n",
       "  .table-result-container {\n",
       "    max-height: 300px;\n",
       "    overflow: auto;\n",
       "  }\n",
       "  table, th, td {\n",
       "    border: 1px solid black;\n",
       "    border-collapse: collapse;\n",
       "  }\n",
       "  th, td {\n",
       "    padding: 5px;\n",
       "  }\n",
       "  th {\n",
       "    text-align: left;\n",
       "  }\n",
       "</style><div class='table-result-container'><table class='table-result'><thead style='background-color: white'><tr><th>plataforma</th><th>preco_mensal_sem_anuncios</th><th>media_imdb</th><th>ranking</th></tr></thead><tbody><tr><td>Netflix</td><td>59.9</td><td>7.15</td><td>1</td></tr><tr><td>Prime Video</td><td>29.9</td><td>7.04</td><td>2</td></tr><tr><td>HBO</td><td>55.9</td><td>7.04</td><td>3</td></tr><tr><td>Hulu</td><td>18.99</td><td>6.97</td><td>4</td></tr><tr><td>Apple TV</td><td>21.9</td><td>6.94</td><td>5</td></tr></tbody></table></div>"
      ]
     },
     "metadata": {
      "application/vnd.databricks.v1+output": {
       "addedWidgets": {},
       "aggData": [],
       "aggError": "",
       "aggOverflow": false,
       "aggSchema": [],
       "aggSeriesLimitReached": false,
       "aggType": "",
       "arguments": {},
       "columnCustomDisplayInfos": {},
       "data": [
        [
         "Netflix",
         59.9,
         7.15,
         1
        ],
        [
         "Prime Video",
         29.9,
         7.04,
         2
        ],
        [
         "HBO",
         55.9,
         7.04,
         3
        ],
        [
         "Hulu",
         18.99,
         6.97,
         4
        ],
        [
         "Apple TV",
         21.9,
         6.94,
         5
        ]
       ],
       "datasetInfos": [],
       "dbfsResultPath": null,
       "isJsonSchema": true,
       "metadata": {},
       "overflow": false,
       "plotOptions": {
        "customPlotOptions": {},
        "displayType": "table",
        "pivotAggregation": null,
        "pivotColumns": null,
        "xColumns": null,
        "yColumns": null
       },
       "removedWidgets": [],
       "schema": [
        {
         "metadata": "{}",
         "name": "plataforma",
         "type": "\"string\""
        },
        {
         "metadata": "{}",
         "name": "preco_mensal_sem_anuncios",
         "type": "\"double\""
        },
        {
         "metadata": "{}",
         "name": "media_imdb",
         "type": "\"double\""
        },
        {
         "metadata": "{}",
         "name": "ranking",
         "type": "\"integer\""
        }
       ],
       "type": "table"
      }
     },
     "output_type": "display_data"
    }
   ],
   "source": [
    "%sql\n",
    "SELECT\n",
    "  f.plataforma,\n",
    "  d.preco_mensal_sem_anuncios,\n",
    "  ROUND(AVG(f.imdbAverageRating), 2) AS media_imdb,\n",
    "  RANK() OVER (ORDER BY AVG(f.imdbAverageRating) DESC) AS ranking\n",
    "FROM tabela_ouro f\n",
    "JOIN dim_plataforma d\n",
    "  ON f.plataforma = d.plataforma\n",
    "WHERE f.type = 'tv' AND f.genres = 'romance'\n",
    "GROUP BY f.plataforma, d.preco_mensal_sem_anuncios\n",
    "ORDER BY ranking"
   ]
  },
  {
   "cell_type": "code",
   "execution_count": 0,
   "metadata": {
    "application/vnd.databricks.v1+cell": {
     "cellMetadata": {
      "byteLimit": 2048000,
      "implicitDf": true,
      "rowLimit": 10000
     },
     "inputWidgets": {},
     "nuid": "07c5e1a0-db8a-4649-8cef-f7ef3cc01b11",
     "showTitle": false,
     "tableResultSettingsMap": {},
     "title": ""
    }
   },
   "outputs": [
    {
     "output_type": "display_data",
     "data": {
      "text/html": [
       "<style scoped>\n",
       "  .table-result-container {\n",
       "    max-height: 300px;\n",
       "    overflow: auto;\n",
       "  }\n",
       "  table, th, td {\n",
       "    border: 1px solid black;\n",
       "    border-collapse: collapse;\n",
       "  }\n",
       "  th, td {\n",
       "    padding: 5px;\n",
       "  }\n",
       "  th {\n",
       "    text-align: left;\n",
       "  }\n",
       "</style><div class='table-result-container'><table class='table-result'><thead style='background-color: white'><tr><th>plataforma</th><th>preco_mensal_sem_anuncios</th><th>media_imdb</th><th>ranking</th></tr></thead><tbody><tr><td>HBO</td><td>55.9</td><td>7.16</td><td>1</td></tr><tr><td>Hulu</td><td>18.99</td><td>7.13</td><td>2</td></tr><tr><td>Prime Video</td><td>29.9</td><td>6.92</td><td>3</td></tr><tr><td>Netflix</td><td>59.9</td><td>6.9</td><td>4</td></tr><tr><td>Apple TV</td><td>21.9</td><td>6.89</td><td>5</td></tr></tbody></table></div>"
      ]
     },
     "metadata": {
      "application/vnd.databricks.v1+output": {
       "addedWidgets": {},
       "aggData": [],
       "aggError": "",
       "aggOverflow": false,
       "aggSchema": [],
       "aggSeriesLimitReached": false,
       "aggType": "",
       "arguments": {},
       "columnCustomDisplayInfos": {},
       "data": [
        [
         "HBO",
         55.9,
         7.16,
         1
        ],
        [
         "Hulu",
         18.99,
         7.13,
         2
        ],
        [
         "Prime Video",
         29.9,
         6.92,
         3
        ],
        [
         "Netflix",
         59.9,
         6.9,
         4
        ],
        [
         "Apple TV",
         21.9,
         6.89,
         5
        ]
       ],
       "datasetInfos": [],
       "dbfsResultPath": null,
       "isJsonSchema": true,
       "metadata": {},
       "overflow": false,
       "plotOptions": {
        "customPlotOptions": {},
        "displayType": "table",
        "pivotAggregation": null,
        "pivotColumns": null,
        "xColumns": null,
        "yColumns": null
       },
       "removedWidgets": [],
       "schema": [
        {
         "metadata": "{}",
         "name": "plataforma",
         "type": "\"string\""
        },
        {
         "metadata": "{}",
         "name": "preco_mensal_sem_anuncios",
         "type": "\"double\""
        },
        {
         "metadata": "{}",
         "name": "media_imdb",
         "type": "\"double\""
        },
        {
         "metadata": "{}",
         "name": "ranking",
         "type": "\"integer\""
        }
       ],
       "type": "table"
      }
     },
     "output_type": "display_data"
    }
   ],
   "source": [
    "%sql\n",
    "SELECT\n",
    "  f.plataforma,\n",
    "  d.preco_mensal_sem_anuncios,\n",
    "  ROUND(AVG(f.imdbAverageRating), 2) AS media_imdb,\n",
    "  RANK() OVER (ORDER BY AVG(f.imdbAverageRating) DESC) AS ranking\n",
    "FROM tabela_ouro f\n",
    "JOIN dim_plataforma d\n",
    "  ON f.plataforma = d.plataforma\n",
    "WHERE f.type = 'tv' AND f.genres = 'thriller'\n",
    "GROUP BY f.plataforma, d.preco_mensal_sem_anuncios\n",
    "ORDER BY ranking"
   ]
  },
  {
   "cell_type": "code",
   "execution_count": 0,
   "metadata": {
    "application/vnd.databricks.v1+cell": {
     "cellMetadata": {
      "byteLimit": 2048000,
      "implicitDf": true,
      "rowLimit": 10000
     },
     "inputWidgets": {},
     "nuid": "d1007b70-1c06-4d4e-a933-4d6220cf8328",
     "showTitle": false,
     "tableResultSettingsMap": {},
     "title": ""
    }
   },
   "outputs": [
    {
     "output_type": "display_data",
     "data": {
      "text/html": [
       "<style scoped>\n",
       "  .table-result-container {\n",
       "    max-height: 300px;\n",
       "    overflow: auto;\n",
       "  }\n",
       "  table, th, td {\n",
       "    border: 1px solid black;\n",
       "    border-collapse: collapse;\n",
       "  }\n",
       "  th, td {\n",
       "    padding: 5px;\n",
       "  }\n",
       "  th {\n",
       "    text-align: left;\n",
       "  }\n",
       "</style><div class='table-result-container'><table class='table-result'><thead style='background-color: white'><tr><th>plataforma</th><th>preco_mensal_sem_anuncios</th><th>media_imdb</th><th>ranking</th></tr></thead><tbody><tr><td>Apple TV</td><td>21.9</td><td>7.05</td><td>1</td></tr><tr><td>HBO</td><td>55.9</td><td>6.78</td><td>2</td></tr><tr><td>Hulu</td><td>18.99</td><td>6.67</td><td>3</td></tr><tr><td>Prime Video</td><td>29.9</td><td>6.63</td><td>4</td></tr><tr><td>Netflix</td><td>59.9</td><td>6.61</td><td>5</td></tr></tbody></table></div>"
      ]
     },
     "metadata": {
      "application/vnd.databricks.v1+output": {
       "addedWidgets": {},
       "aggData": [],
       "aggError": "",
       "aggOverflow": false,
       "aggSchema": [],
       "aggSeriesLimitReached": false,
       "aggType": "",
       "arguments": {},
       "columnCustomDisplayInfos": {},
       "data": [
        [
         "Apple TV",
         21.9,
         7.05,
         1
        ],
        [
         "HBO",
         55.9,
         6.78,
         2
        ],
        [
         "Hulu",
         18.99,
         6.67,
         3
        ],
        [
         "Prime Video",
         29.9,
         6.63,
         4
        ],
        [
         "Netflix",
         59.9,
         6.61,
         5
        ]
       ],
       "datasetInfos": [],
       "dbfsResultPath": null,
       "isJsonSchema": true,
       "metadata": {},
       "overflow": false,
       "plotOptions": {
        "customPlotOptions": {},
        "displayType": "table",
        "pivotAggregation": null,
        "pivotColumns": null,
        "xColumns": null,
        "yColumns": null
       },
       "removedWidgets": [],
       "schema": [
        {
         "metadata": "{}",
         "name": "plataforma",
         "type": "\"string\""
        },
        {
         "metadata": "{}",
         "name": "preco_mensal_sem_anuncios",
         "type": "\"double\""
        },
        {
         "metadata": "{}",
         "name": "media_imdb",
         "type": "\"double\""
        },
        {
         "metadata": "{}",
         "name": "ranking",
         "type": "\"integer\""
        }
       ],
       "type": "table"
      }
     },
     "output_type": "display_data"
    }
   ],
   "source": [
    "%sql\n",
    "SELECT\n",
    "  f.plataforma,\n",
    "  d.preco_mensal_sem_anuncios,\n",
    "  ROUND(AVG(f.imdbAverageRating), 2) AS media_imdb,\n",
    "  RANK() OVER (ORDER BY AVG(f.imdbAverageRating) DESC) AS ranking\n",
    "FROM tabela_ouro f\n",
    "JOIN dim_plataforma d\n",
    "  ON f.plataforma = d.plataforma\n",
    "WHERE f.type = 'tv' AND f.genres = 'sci fi'\n",
    "GROUP BY f.plataforma, d.preco_mensal_sem_anuncios\n",
    "ORDER BY ranking"
   ]
  }
 ],
 "metadata": {
  "application/vnd.databricks.v1+notebook": {
   "computePreferences": null,
   "dashboards": [],
   "environmentMetadata": {
    "base_environment": "",
    "environment_version": "1"
   },
   "inputWidgetPreferences": null,
   "language": "python",
   "notebookMetadata": {
    "mostRecentlyExecutedCommandWithImplicitDF": {
     "commandId": 1536317406247068,
     "dataframes": [
      "_sqldf"
     ]
    },
    "pythonIndentUnit": 4
   },
   "notebookName": "Untitled Notebook 2025-04-02 11:56:08",
   "widgets": {}
  }
 },
 "nbformat": 4,
 "nbformat_minor": 0
}