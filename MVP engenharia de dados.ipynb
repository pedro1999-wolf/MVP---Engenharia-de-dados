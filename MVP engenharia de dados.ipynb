{
 "cells": [
  {
   "cell_type": "markdown",
   "metadata": {
    "application/vnd.databricks.v1+cell": {
     "cellMetadata": {
      "byteLimit": 2048000,
      "rowLimit": 10000
     },
     "inputWidgets": {},
     "nuid": "462606f4-e7fd-4a9f-a8cc-b7c2df5ae166",
     "showTitle": false,
     "tableResultSettingsMap": {},
     "title": ""
    }
   },
   "source": [
    "## **1. Importação de pacotes e funções**"
   ]
  },
  {
   "cell_type": "code",
   "execution_count": 0,
   "metadata": {
    "application/vnd.databricks.v1+cell": {
     "cellMetadata": {
      "byteLimit": 2048000,
      "rowLimit": 10000
     },
     "inputWidgets": {},
     "nuid": "1fb69ffd-9c66-480a-8d6f-f2af4fdf32aa",
     "showTitle": true,
     "tableResultSettingsMap": {},
     "title": "Importação de pacotes"
    }
   },
   "outputs": [],
   "source": [
    "\n",
    "from pyspark.sql.functions import lit, col, sum, when, split, explode, trim, lower\n",
    "from pyspark.sql.functions import monotonically_increasing_id\n",
    "from pyspark.sql import Row\n",
    "import pandas as pd\n",
    "from scipy.stats import f_oneway\n"
   ]
  },
  {
   "cell_type": "markdown",
   "metadata": {
    "application/vnd.databricks.v1+cell": {
     "cellMetadata": {
      "byteLimit": 2048000,
      "rowLimit": 10000
     },
     "inputWidgets": {},
     "nuid": "a98cd3fc-421c-4dc5-9740-9f6f588af3b6",
     "showTitle": false,
     "tableResultSettingsMap": {},
     "title": ""
    }
   },
   "source": [
    "## **2. Importação dos dados** "
   ]
  },
  {
   "cell_type": "code",
   "execution_count": 0,
   "metadata": {
    "application/vnd.databricks.v1+cell": {
     "cellMetadata": {
      "byteLimit": 2048000,
      "rowLimit": 10000
     },
     "inputWidgets": {},
     "nuid": "bf0dded6-888c-40d9-b56b-2f8cf10c163e",
     "showTitle": true,
     "tableResultSettingsMap": {},
     "title": "Importação dos dados"
    },
    "jupyter": {
     "outputs_hidden": true
    }
   },
   "outputs": [
    {
     "output_type": "stream",
     "name": "stdout",
     "output_type": "stream",
     "text": [
      "--2025-04-08 14:52:40--  https://raw.githubusercontent.com/pedro1999-wolf/MVP---Engenharia-de-dados/main/apple_TV.csv\r\nResolving raw.githubusercontent.com (raw.githubusercontent.com)... 185.199.111.133, 185.199.108.133, 185.199.109.133, ...\r\nConnecting to raw.githubusercontent.com (raw.githubusercontent.com)|185.199.111.133|:443... connected.\r\nHTTP request sent, awaiting response... 200 OK\r\nLength: 1194298 (1.1M) [text/plain]\r\nSaving to: ‘/tmp/apple_TV.csv’\r\n\r\n\r/tmp/apple_TV.csv     0%[                    ]       0  --.-KB/s               \r/tmp/apple_TV.csv   100%[===================>]   1.14M  --.-KB/s    in 0.05s   \r\n\r\n2025-04-08 14:52:40 (23.1 MB/s) - ‘/tmp/apple_TV.csv’ saved [1194298/1194298]\r\n\r\n--2025-04-08 14:52:41--  https://raw.githubusercontent.com/pedro1999-wolf/MVP---Engenharia-de-dados/main/hbo.csv\r\nResolving raw.githubusercontent.com (raw.githubusercontent.com)... 185.199.110.133, 185.199.109.133, 185.199.108.133, ...\r\nConnecting to raw.githubusercontent.com (raw.githubusercontent.com)|185.199.110.133|:443... connected.\r\nHTTP request sent, awaiting response... 200 OK\r\nLength: 669764 (654K) [text/plain]\r\nSaving to: ‘/tmp/hbo.csv’\r\n\r\n\r/tmp/hbo.csv          0%[                    ]       0  --.-KB/s               \r/tmp/hbo.csv        100%[===================>] 654.07K  --.-KB/s    in 0.04s   \r\n\r\n2025-04-08 14:52:42 (14.5 MB/s) - ‘/tmp/hbo.csv’ saved [669764/669764]\r\n\r\n--2025-04-08 14:52:42--  https://raw.githubusercontent.com/pedro1999-wolf/MVP---Engenharia-de-dados/main/hulu.csv\r\nResolving raw.githubusercontent.com (raw.githubusercontent.com)... 185.199.111.133, 185.199.110.133, 185.199.109.133, ...\r\nConnecting to raw.githubusercontent.com (raw.githubusercontent.com)|185.199.111.133|:443... connected.\r\nHTTP request sent, awaiting response... 200 OK\r\nLength: 711428 (695K) [text/plain]\r\nSaving to: ‘/tmp/hulu.csv’\r\n\r\n\r/tmp/hulu.csv         0%[                    ]       0  --.-KB/s               \r/tmp/hulu.csv       100%[===================>] 694.75K  --.-KB/s    in 0.04s   \r\n\r\n2025-04-08 14:52:43 (17.1 MB/s) - ‘/tmp/hulu.csv’ saved [711428/711428]\r\n\r\n--2025-04-08 14:52:43--  https://raw.githubusercontent.com/pedro1999-wolf/MVP---Engenharia-de-dados/main/netflix.csv\r\nResolving raw.githubusercontent.com (raw.githubusercontent.com)... 185.199.108.133, 185.199.111.133, 185.199.110.133, ...\r\nConnecting to raw.githubusercontent.com (raw.githubusercontent.com)|185.199.108.133|:443... connected.\r\nHTTP request sent, awaiting response... 200 OK\r\nLength: 1458159 (1.4M) [text/plain]\r\nSaving to: ‘/tmp/netflix.csv’\r\n\r\n\r/tmp/netflix.csv      0%[                    ]       0  --.-KB/s               \r/tmp/netflix.csv    100%[===================>]   1.39M  --.-KB/s    in 0.05s   \r\n\r\n2025-04-08 14:52:44 (30.2 MB/s) - ‘/tmp/netflix.csv’ saved [1458159/1458159]\r\n\r\n--2025-04-08 14:52:44--  https://raw.githubusercontent.com/pedro1999-wolf/MVP---Engenharia-de-dados/main/prime_video.csv\r\nResolving raw.githubusercontent.com (raw.githubusercontent.com)... 185.199.109.133, 185.199.108.133, 185.199.111.133, ...\r\nConnecting to raw.githubusercontent.com (raw.githubusercontent.com)|185.199.109.133|:443... connected.\r\nHTTP request sent, awaiting response... 200 OK\r\nLength: 4652023 (4.4M) [text/plain]\r\nSaving to: ‘/tmp/prime_video.csv’\r\n\r\n\r/tmp/prime_video.cs   0%[                    ]       0  --.-KB/s               \r/tmp/prime_video.cs 100%[===================>]   4.44M  --.-KB/s    in 0.06s   \r\n\r\n2025-04-08 14:52:45 (70.6 MB/s) - ‘/tmp/prime_video.csv’ saved [4652023/4652023]\r\n\r\n"
     ]
    }
   ],
   "source": [
    "# 1. Download dos arquivos para /tmp/\n",
    "!wget -O /tmp/apple_TV.csv https://raw.githubusercontent.com/pedro1999-wolf/MVP---Engenharia-de-dados/main/apple_TV.csv\n",
    "!wget -O /tmp/hbo.csv https://raw.githubusercontent.com/pedro1999-wolf/MVP---Engenharia-de-dados/main/hbo.csv\n",
    "!wget -O /tmp/hulu.csv https://raw.githubusercontent.com/pedro1999-wolf/MVP---Engenharia-de-dados/main/hulu.csv\n",
    "!wget -O /tmp/netflix.csv https://raw.githubusercontent.com/pedro1999-wolf/MVP---Engenharia-de-dados/main/netflix.csv\n",
    "!wget -O /tmp/prime_video.csv https://raw.githubusercontent.com/pedro1999-wolf/MVP---Engenharia-de-dados/main/prime_video.csv\n",
    "\n",
    "# 2. Leitura dos CSVs com Spark\n",
    "apple_tv_df = spark.read.option(\"header\", \"true\").csv(\"file:/tmp/apple_TV.csv\").withColumn(\"plataforma\", lit(\"Apple TV\"))\n",
    "hbo_df = spark.read.option(\"header\", \"true\").csv(\"file:/tmp/hbo.csv\").withColumn(\"plataforma\", lit(\"HBO\"))\n",
    "hulu_df = spark.read.option(\"header\", \"true\").csv(\"file:/tmp/hulu.csv\").withColumn(\"plataforma\", lit(\"Hulu\"))\n",
    "netflix_df = spark.read.option(\"header\", \"true\").csv(\"file:/tmp/netflix.csv\").withColumn(\"plataforma\", lit(\"Netflix\"))\n",
    "prime_video_df = spark.read.option(\"header\", \"true\").csv(\"file:/tmp/prime_video.csv\").withColumn(\"plataforma\", lit(\"Prime Video\"))"
   ]
  },
  {
   "cell_type": "markdown",
   "metadata": {
    "application/vnd.databricks.v1+cell": {
     "cellMetadata": {
      "byteLimit": 2048000,
      "rowLimit": 10000
     },
     "inputWidgets": {},
     "nuid": "9b99f0d6-bccb-4eeb-9243-34d1980a762b",
     "showTitle": false,
     "tableResultSettingsMap": {},
     "title": ""
    }
   },
   "source": [
    "## **3. Processamento dos dados**\n"
   ]
  },
  {
   "cell_type": "markdown",
   "metadata": {
    "application/vnd.databricks.v1+cell": {
     "cellMetadata": {},
     "inputWidgets": {},
     "nuid": "9b398075-6272-4451-b842-e266925011ef",
     "showTitle": false,
     "tableResultSettingsMap": {},
     "title": ""
    }
   },
   "source": [
    "### **3.1. União das tabelas em um dataframe**"
   ]
  },
  {
   "cell_type": "code",
   "execution_count": 0,
   "metadata": {
    "application/vnd.databricks.v1+cell": {
     "cellMetadata": {
      "byteLimit": 2048000,
      "implicitDf": true,
      "rowLimit": 10000
     },
     "inputWidgets": {},
     "nuid": "16591974-2c87-440f-9789-ba16b1626511",
     "showTitle": true,
     "tableResultSettingsMap": {},
     "title": "União dos dataframes"
    }
   },
   "outputs": [
    {
     "output_type": "stream",
     "name": "stdout",
     "output_type": "stream",
     "text": [
      "+--------------------+-----+--------------------+-----------+---------+-----------------+------------+------------------+----------+\n|               title| type|              genres|releaseYear|   imdbId|imdbAverageRating|imdbNumVotes|availableCountries|plataforma|\n+--------------------+-----+--------------------+-----------+---------+-----------------+------------+------------------+----------+\n|          Four Rooms|movie|              Comedy|       1995|tt0113101|              6.7|      113837|              null|  Apple TV|\n|        Forrest Gump|movie|      Drama, Romance|       1994|tt0109830|              8.8|     2365858|              null|  Apple TV|\n|     American Beauty|movie|               Drama|       1999|tt0169547|              8.3|     1245164|              null|  Apple TV|\n|        Citizen Kane|movie|      Drama, Mystery|       1941|tt0033467|              8.3|      479414|              null|  Apple TV|\n|          Metropolis|movie|       Drama, Sci-Fi|       1927|tt0017136|              8.3|      193337|              null|  Apple TV|\n|          Unforgiven|movie|      Drama, Western|       1992|tt0105695|              8.2|      452358|              null|  Apple TV|\n|Eternal Sunshine ...|movie|Drama, Romance, S...|       2004|tt0338013|              8.3|     1131080|              null|  Apple TV|\n|       Amores Perros|movie|     Drama, Thriller|       2000|tt0245712|                8|      263163|              null|  Apple TV|\n|          12 Monkeys|movie|Mystery, Sci-Fi, ...|       1995|tt0114746|                8|      662382|              null|  Apple TV|\n|         Talk to Her|movie|Drama, Mystery, R...|       2002|tt0287467|              7.9|      119746|              null|  Apple TV|\n+--------------------+-----+--------------------+-----------+---------+-----------------+------------+------------------+----------+\nonly showing top 10 rows\n\n"
     ]
    }
   ],
   "source": [
    "# 3. União dos dataframes\n",
    "df_total = apple_tv_df.unionByName(hbo_df, allowMissingColumns=True) \\\n",
    "                      .unionByName(hulu_df, allowMissingColumns=True) \\\n",
    "                      .unionByName(netflix_df, allowMissingColumns=True) \\\n",
    "                      .unionByName(prime_video_df, allowMissingColumns=True)\n",
    "\n",
    "# 4. Checar se a união deu certo\n",
    "df_total.show(10)\n"
   ]
  },
  {
   "cell_type": "markdown",
   "metadata": {
    "application/vnd.databricks.v1+cell": {
     "cellMetadata": {},
     "inputWidgets": {},
     "nuid": "2c67f94a-f857-4775-b661-3f1c937edfcd",
     "showTitle": false,
     "tableResultSettingsMap": {},
     "title": ""
    }
   },
   "source": [
    "### **3.2. Explosão da coluna de gêneros**"
   ]
  },
  {
   "cell_type": "code",
   "execution_count": 0,
   "metadata": {
    "application/vnd.databricks.v1+cell": {
     "cellMetadata": {
      "byteLimit": 2048000,
      "rowLimit": 10000
     },
     "inputWidgets": {},
     "nuid": "25a3755b-0a96-4c32-ac67-394330fc57b5",
     "showTitle": true,
     "tableResultSettingsMap": {},
     "title": "Explosão da coluna gêneros"
    }
   },
   "outputs": [
    {
     "output_type": "stream",
     "name": "stdout",
     "output_type": "stream",
     "text": [
      "+---------------+-----+-------+-----------+---------+-----------------+------------+------------------+----------+\n|          title| type| genres|releaseYear|   imdbId|imdbAverageRating|imdbNumVotes|availableCountries|plataforma|\n+---------------+-----+-------+-----------+---------+-----------------+------------+------------------+----------+\n|     Four Rooms|movie| comedy|       1995|tt0113101|              6.7|      113837|              null|  Apple TV|\n|   Forrest Gump|movie|  drama|       1994|tt0109830|              8.8|     2365858|              null|  Apple TV|\n|   Forrest Gump|movie|romance|       1994|tt0109830|              8.8|     2365858|              null|  Apple TV|\n|American Beauty|movie|  drama|       1999|tt0169547|              8.3|     1245164|              null|  Apple TV|\n|   Citizen Kane|movie|  drama|       1941|tt0033467|              8.3|      479414|              null|  Apple TV|\n|   Citizen Kane|movie|mystery|       1941|tt0033467|              8.3|      479414|              null|  Apple TV|\n|     Metropolis|movie|  drama|       1927|tt0017136|              8.3|      193337|              null|  Apple TV|\n|     Metropolis|movie| sci-fi|       1927|tt0017136|              8.3|      193337|              null|  Apple TV|\n|     Unforgiven|movie|  drama|       1992|tt0105695|              8.2|      452358|              null|  Apple TV|\n|     Unforgiven|movie|western|       1992|tt0105695|              8.2|      452358|              null|  Apple TV|\n+---------------+-----+-------+-----------+---------+-----------------+------------+------------------+----------+\nonly showing top 10 rows\n\n"
     ]
    }
   ],
   "source": [
    "# Explodir os gêneros separados por vírgula\n",
    "df_generos_explodido = df_total.withColumn(\"genres\", explode(split(col(\"genres\"), \",\")))\n",
    "df_generos_explodido = df_generos_explodido.withColumn(\"genres\", lower(trim(col(\"genres\"))))\n",
    "\n",
    "# Checar se a explosão deu certo\n",
    "df_generos_explodido.show(10)\n"
   ]
  },
  {
   "cell_type": "markdown",
   "metadata": {
    "application/vnd.databricks.v1+cell": {
     "cellMetadata": {},
     "inputWidgets": {},
     "nuid": "fbb1bea6-9c5d-4f10-b7f2-69e3ec6e2617",
     "showTitle": false,
     "tableResultSettingsMap": {},
     "title": ""
    }
   },
   "source": [
    "### **3.3. Limpeza dos dados**"
   ]
  },
  {
   "cell_type": "code",
   "execution_count": 0,
   "metadata": {
    "application/vnd.databricks.v1+cell": {
     "cellMetadata": {
      "byteLimit": 2048000,
      "rowLimit": 10000
     },
     "inputWidgets": {},
     "nuid": "8fd4fb0e-beca-40ee-9140-24f1213314cc",
     "showTitle": true,
     "tableResultSettingsMap": {},
     "title": "Limpeza dos dados"
    }
   },
   "outputs": [
    {
     "output_type": "stream",
     "name": "stdout",
     "output_type": "stream",
     "text": [
      "+-----+----+------+-----------+------+-----------------+------------+------------------+----------+\n|title|type|genres|releaseYear|imdbId|imdbAverageRating|imdbNumVotes|availableCountries|plataforma|\n+-----+----+------+-----------+------+-----------------+------------+------------------+----------+\n| 4160|   0|     0|        153| 11981|            16872|       16872|            260849|         0|\n+-----+----+------+-----------+------+-----------------+------------+------------------+----------+\n\n+-----+----+------+-----------------+----------+\n|title|type|genres|imdbAverageRating|plataforma|\n+-----+----+------+-----------------+----------+\n|    0|   0|     0|                0|         0|\n+-----+----+------+-----------------+----------+\n\n"
     ]
    }
   ],
   "source": [
    "# Verificar número de nulos por coluna\n",
    "df_generos_explodido.select([\n",
    "    sum(when(col(c).isNull() | (col(c) == \"\"), 1).otherwise(0)).alias(c)\n",
    "    for c in df_generos_explodido.columns\n",
    "]).show()\n",
    "\n",
    "# Eliminar colunas não informativas\n",
    "df_drop_colunas = df_generos_explodido.drop(\"availableCountries\", \"imdbNumVotes\", \"imdbId\", \"releaseYear\")\n",
    "\n",
    "# Eliminar linhas de valores nulos e produzir a tabela final\n",
    "df_limpo = df_drop_colunas.na.drop()\n",
    "\n",
    "# Verificar se as colunas e nulos foram eliminados\n",
    "df_limpo.select([\n",
    "    sum(when(col(c).isNull() | (col(c) == \"\"), 1).otherwise(0)).alias(c)\n",
    "    for c in df_limpo.columns\n",
    "]).show()"
   ]
  },
  {
   "cell_type": "code",
   "execution_count": 0,
   "metadata": {
    "application/vnd.databricks.v1+cell": {
     "cellMetadata": {
      "byteLimit": 2048000,
      "rowLimit": 10000
     },
     "inputWidgets": {},
     "nuid": "d9d40e7c-ae1a-44f0-a33d-9ffdc4018425",
     "showTitle": false,
     "tableResultSettingsMap": {},
     "title": ""
    }
   },
   "outputs": [
    {
     "output_type": "stream",
     "name": "stdout",
     "output_type": "stream",
     "text": [
      "+-----------+------+\n| plataforma| count|\n+-----------+------+\n|   Apple TV| 34411|\n|        HBO| 18558|\n|       Hulu| 20626|\n|    Netflix| 43109|\n|Prime Video|128330|\n+-----------+------+\n\n+-----------+-----+\n|     genres|count|\n+-----------+-----+\n|  biography| 4905|\n|      crime|15620|\n|    fantasy| 5543|\n|documentary|13289|\n|       news|  139|\n|     action|18805|\n|  animation| 8715|\n|       soap|    1|\n|    mystery| 8640|\n|      sport| 2019|\n|     family| 6697|\n|     horror|11511|\n|  film-noir|  264|\n|    history| 4232|\n|      music| 2860|\n|  talk-show|  176|\n|    musical| 1340|\n|  adventure|12215|\n| reality-tv| 2518|\n|      drama|53117|\n+-----------+-----+\nonly showing top 20 rows\n\n+-------------+------+\n|         type| count|\n+-------------+------+\n|           tv| 46017|\n|        movie|199014|\n| \"\" Princess\"|     3|\n+-------------+------+\n\n"
     ]
    }
   ],
   "source": [
    "# Checando se informações por coluna\n",
    "df_limpo.groupBy(\"plataforma\").count().show()\n",
    "df_limpo.groupBy(\"genres\").count().show()\n",
    "df_limpo.groupBy(\"type\").count().show()"
   ]
  },
  {
   "cell_type": "code",
   "execution_count": 0,
   "metadata": {
    "application/vnd.databricks.v1+cell": {
     "cellMetadata": {
      "byteLimit": 2048000,
      "rowLimit": 10000
     },
     "inputWidgets": {},
     "nuid": "92873ea6-2fac-47cf-8b11-c5fb40a3cefb",
     "showTitle": false,
     "tableResultSettingsMap": {},
     "title": ""
    }
   },
   "outputs": [],
   "source": [
    "#Eliminar tipo \"Princess\" por que não faz sentido\n",
    "df_limpo = df_limpo.filter(trim(col(\"type\")) != '\"\" Princess\"')\n",
    "\n",
    "#Eliminar gêneros não informativos, deixando apenas os mais gerais\n",
    "generos_excluir = [\n",
    "    \"tv movie\", \"adult\", \"adventure\", \"biography\", \"crime\", \"family\",\n",
    "    \"film-noir\", \"talk-show\", \"reality-tv\", \"war\", \"soap\", \"mystery\",\n",
    "    \"sport\", \"news\", \"short\", \"western\", \"game-show\", \"action & adventure\", \"animation\", \"documentary\", \"fantasy\", \"history\", \"musical\",\"music\", \"kids\", \"reality\"\n",
    "]\n",
    "df_limpo = df_limpo.filter(~col(\"genres\").isin(generos_excluir))\n",
    "\n",
    "# Ajustando valores redundantes em gêneros\n",
    "df_limpo = df_limpo.withColumn(\n",
    "    \"genres\",\n",
    "    when((col(\"genres\") == \"sci-fi\") | (col(\"genres\") == \"science fiction\"), \"sci fi\")\n",
    "    .otherwise(col(\"genres\"))\n",
    ")"
   ]
  },
  {
   "cell_type": "code",
   "execution_count": 0,
   "metadata": {
    "application/vnd.databricks.v1+cell": {
     "cellMetadata": {
      "byteLimit": 2048000,
      "rowLimit": 10000
     },
     "inputWidgets": {},
     "nuid": "cbd7c0b8-0026-4e61-8200-fa9edf130fa8",
     "showTitle": false,
     "tableResultSettingsMap": {},
     "title": ""
    }
   },
   "outputs": [
    {
     "output_type": "stream",
     "name": "stdout",
     "output_type": "stream",
     "text": [
      "+-----------+-----+\n| plataforma|count|\n+-----------+-----+\n|   Apple TV|21449|\n|        HBO| 9333|\n|       Hulu|11998|\n|    Netflix|26574|\n|Prime Video|80957|\n+-----------+-----+\n\n+--------+-----+\n|  genres|count|\n+--------+-----+\n|  action|18805|\n|  sci fi| 4405|\n|  horror|11511|\n|   drama|53117|\n| romance|14941|\n|thriller|14690|\n|  comedy|32842|\n+--------+-----+\n\n+-----+------+\n| type| count|\n+-----+------+\n|   tv| 20792|\n|movie|129519|\n+-----+------+\n\n"
     ]
    }
   ],
   "source": [
    "# Checando se as eliminações deram certo\n",
    "df_limpo.groupBy(\"plataforma\").count().show()\n",
    "df_limpo.groupBy(\"genres\").count().show()\n",
    "df_limpo.groupBy(\"type\").count().show()"
   ]
  },
  {
   "cell_type": "markdown",
   "metadata": {
    "application/vnd.databricks.v1+cell": {
     "cellMetadata": {},
     "inputWidgets": {},
     "nuid": "350bb5e5-7c06-4f20-ab0b-f7b86e10e63c",
     "showTitle": false,
     "tableResultSettingsMap": {},
     "title": ""
    }
   },
   "source": [
    "### **3.4. Transformação final dos dados**"
   ]
  },
  {
   "cell_type": "code",
   "execution_count": 0,
   "metadata": {
    "application/vnd.databricks.v1+cell": {
     "cellMetadata": {
      "byteLimit": 2048000,
      "rowLimit": 10000
     },
     "inputWidgets": {},
     "nuid": "b3f630bb-611b-46e5-b409-e66a645c2b62",
     "showTitle": false,
     "tableResultSettingsMap": {},
     "title": ""
    }
   },
   "outputs": [
    {
     "output_type": "stream",
     "name": "stdout",
     "output_type": "stream",
     "text": [
      "+-----+-------+-----------+----------+-------+---------------+-----------------------+\n| type| genero| plataforma|media_imdb|ranking|p_valor_vs_top1|diferenca_significativa|\n+-----+-------+-----------+----------+-------+---------------+-----------------------+\n|movie| comedy|        HBO|      6.32|      1|           null|                  false|\n|movie| comedy|       Hulu|      6.28|      2|         0.2892|                  false|\n|movie| comedy|   Apple TV|      6.12|      3|            0.0|                   true|\n|movie| comedy|    Netflix|       6.0|      4|            0.0|                   true|\n|movie| comedy|Prime Video|      5.79|      5|            0.0|                   true|\n|movie| action|        HBO|      6.35|      1|           null|                  false|\n|movie| action|       Hulu|      6.25|      2|         0.0126|                   true|\n|movie| action|    Netflix|      6.12|      3|            0.0|                   true|\n|movie| action|   Apple TV|      5.79|      4|            0.0|                   true|\n|movie| action|Prime Video|      5.35|      5|            0.0|                   true|\n|movie|  drama|        HBO|       6.7|      1|           null|                  false|\n|movie|  drama|       Hulu|      6.47|      2|            0.0|                   true|\n|movie|  drama|    Netflix|       6.4|      3|            0.0|                   true|\n|movie|  drama|   Apple TV|      6.35|      4|            0.0|                   true|\n|movie|  drama|Prime Video|      6.04|      5|            0.0|                   true|\n|movie|romance|        HBO|      6.48|      1|           null|                  false|\n|movie|romance|       Hulu|      6.33|      2|         7.0E-4|                   true|\n|movie|romance|   Apple TV|      6.28|      3|            0.0|                   true|\n|movie|romance|    Netflix|      6.16|      4|            0.0|                   true|\n|movie|romance|Prime Video|      6.03|      5|            0.0|                   true|\n+-----+-------+-----------+----------+-------+---------------+-----------------------+\nonly showing top 20 rows\n\n"
     ]
    }
   ],
   "source": [
    "# Converter para pandas apenas colunas necessárias\n",
    "df_limpo_pandas = df_limpo.select(\"type\",\"genres\", \"plataforma\", \"imdbAverageRating\").toPandas()\n",
    "\n",
    "# Definir os gêneros e tipos para os testes de anova\n",
    "generos = [\"comedy\", \"action\", \"drama\", \"romance\", \"sci fi\", \"horror\", \"thriller\"]\n",
    "tipos = [\"movie\", \"tv\"]\n",
    "\n",
    "# Inicializar lista de registros para compor a tabela\n",
    "registros = []\n",
    "\n",
    "# Função para criação das variáveis estatísticas\n",
    "for tipo in tipos:\n",
    "    for genero in generos:\n",
    "        df_genero = df_limpo_pandas[\n",
    "            (df_limpo_pandas[\"type\"].str.lower() == tipo.lower()) &\n",
    "            (df_limpo_pandas[\"genres\"].str.lower() == genero.lower())\n",
    "        ][[\"plataforma\", \"imdbAverageRating\"]].copy()\n",
    "\n",
    "        df_genero[\"imdbAverageRating\"] = pd.to_numeric(df_genero[\"imdbAverageRating\"], errors=\"coerce\")\n",
    "        df_genero = df_genero.dropna()\n",
    "\n",
    "        if df_genero.empty or df_genero[\"plataforma\"].nunique() < 2:\n",
    "            continue\n",
    "\n",
    "        ranking = df_genero.groupby(\"plataforma\")[\"imdbAverageRating\"].mean().sort_values(ascending=False)\n",
    "        plataforma_top1 = ranking.index[0]\n",
    "        notas_top1 = df_genero[df_genero[\"plataforma\"] == plataforma_top1][\"imdbAverageRating\"]\n",
    "\n",
    "        for pos, (plataforma, media) in enumerate(ranking.items(), start=1):\n",
    "            if plataforma == plataforma_top1:\n",
    "                p_valor = None\n",
    "                sig_diff = False\n",
    "            else:\n",
    "                notas_outro = df_genero[df_genero[\"plataforma\"] == plataforma][\"imdbAverageRating\"]\n",
    "                if len(notas_outro) > 1:\n",
    "                    stat, p_valor = f_oneway(notas_top1, notas_outro)\n",
    "                    sig_diff = p_valor < 0.05\n",
    "                else:\n",
    "                    p_valor = None\n",
    "                    sig_diff = False\n",
    "\n",
    "            registros.append({\n",
    "                \"type\": tipo.lower(),\n",
    "                \"genero\": genero.lower(),\n",
    "                \"plataforma\": plataforma,\n",
    "                \"media_imdb\": round(media, 2),\n",
    "                \"ranking\": pos,\n",
    "                \"p_valor_vs_top1\": round(p_valor, 4) if p_valor is not None else None,\n",
    "                \"diferenca_significativa\": sig_diff\n",
    "            })\n",
    "\n",
    "# Transformar em DataFrame\n",
    "df_dim_ranking = pd.DataFrame(registros)\n",
    "df_final = spark.createDataFrame(df_dim_ranking)\n",
    "\n",
    "# Checando o dataframe\n",
    "df_final.show()\n"
   ]
  },
  {
   "cell_type": "markdown",
   "metadata": {
    "application/vnd.databricks.v1+cell": {
     "cellMetadata": {},
     "inputWidgets": {},
     "nuid": "6f7e6476-6b05-45d2-97c7-c0796c5beaad",
     "showTitle": false,
     "tableResultSettingsMap": {},
     "title": ""
    }
   },
   "source": [
    "### **3.5. Criação de tabela dimensão de plataformas**"
   ]
  },
  {
   "cell_type": "code",
   "execution_count": 0,
   "metadata": {
    "application/vnd.databricks.v1+cell": {
     "cellMetadata": {
      "byteLimit": 2048000,
      "rowLimit": 10000
     },
     "inputWidgets": {},
     "nuid": "0aca747e-9880-403e-9d6b-8e382c7e98d8",
     "showTitle": true,
     "tableResultSettingsMap": {},
     "title": "Criando tabela de dimensão de preço"
    }
   },
   "outputs": [
    {
     "output_type": "stream",
     "name": "stdout",
     "output_type": "stream",
     "text": [
      "+-------------+-----------+-------------------------+\n|id_plataforma| plataforma|preco_mensal_sem_anuncios|\n+-------------+-----------+-------------------------+\n|            1|    Netflix|                     59.9|\n|            2|Prime Video|                     29.9|\n|            3|   Apple TV|                     21.9|\n|            4|        HBO|                     55.9|\n|            5|       Hulu|                    18.99|\n+-------------+-----------+-------------------------+\n\n"
     ]
    }
   ],
   "source": [
    "\n",
    "# Criando tabela dimensional de plataformas\n",
    "plataformas = [\n",
    "    Row(id_plataforma=1, plataforma=\"Netflix\", preco_mensal_sem_anuncios=59.90),\n",
    "    Row(id_plataforma=2, plataforma=\"Prime Video\", preco_mensal_sem_anuncios=29.90),\n",
    "    Row(id_plataforma=3, plataforma=\"Apple TV\", preco_mensal_sem_anuncios=21.90),\n",
    "    Row(id_plataforma=4, plataforma=\"HBO\", preco_mensal_sem_anuncios=55.90),\n",
    "    Row(id_plataforma=5, plataforma=\"Hulu\", preco_mensal_sem_anuncios=18.99)\n",
    "]\n",
    "\n",
    "# Criando df spark\n",
    "dim_plataforma = spark.createDataFrame(plataformas)\n",
    "\n",
    "# Checando\n",
    "dim_plataforma.show()\n"
   ]
  },
  {
   "cell_type": "markdown",
   "metadata": {
    "application/vnd.databricks.v1+cell": {
     "cellMetadata": {},
     "inputWidgets": {},
     "nuid": "cb6ae42c-bb8d-433c-8402-95f7131f13a2",
     "showTitle": false,
     "tableResultSettingsMap": {},
     "title": ""
    }
   },
   "source": [
    "### **3.6. Criação da Tabela Fato**"
   ]
  },
  {
   "cell_type": "code",
   "execution_count": 0,
   "metadata": {
    "application/vnd.databricks.v1+cell": {
     "cellMetadata": {
      "byteLimit": 2048000,
      "rowLimit": 10000
     },
     "inputWidgets": {},
     "nuid": "b9061cfc-5cc8-4972-adbf-9dd1fc1dd728",
     "showTitle": false,
     "tableResultSettingsMap": {},
     "title": ""
    }
   },
   "outputs": [
    {
     "output_type": "stream",
     "name": "stdout",
     "output_type": "stream",
     "text": [
      "+-----+-------+----------+-------+---------------+-----------------------+-------------+\n| type| genero|media_imdb|ranking|p_valor_vs_top1|diferenca_significativa|id_plataforma|\n+-----+-------+----------+-------+---------------+-----------------------+-------------+\n|movie| comedy|      6.32|      1|           null|                  false|            4|\n|movie| action|      6.35|      1|           null|                  false|            4|\n|movie| comedy|      5.79|      5|            0.0|                   true|            2|\n|movie| comedy|      6.12|      3|            0.0|                   true|            3|\n|movie| comedy|       6.0|      4|            0.0|                   true|            1|\n|movie| action|      6.12|      3|            0.0|                   true|            1|\n|movie| comedy|      6.28|      2|         0.2892|                  false|            5|\n|movie| action|      6.25|      2|         0.0126|                   true|            5|\n|movie|  drama|       6.7|      1|           null|                  false|            4|\n|movie|romance|      6.48|      1|           null|                  false|            4|\n|movie| action|      5.35|      5|            0.0|                   true|            2|\n|movie|  drama|      6.04|      5|            0.0|                   true|            2|\n|movie| action|      5.79|      4|            0.0|                   true|            3|\n|movie|  drama|      6.35|      4|            0.0|                   true|            3|\n|movie|  drama|       6.4|      3|            0.0|                   true|            1|\n|movie|  drama|      6.47|      2|            0.0|                   true|            5|\n|movie|romance|      6.33|      2|         7.0E-4|                   true|            5|\n|movie| sci fi|      6.43|      1|           null|                  false|            4|\n|movie| horror|      6.01|      1|           null|                  false|            4|\n|movie|romance|      6.03|      5|            0.0|                   true|            2|\n+-----+-------+----------+-------+---------------+-----------------------+-------------+\nonly showing top 20 rows\n\n"
     ]
    }
   ],
   "source": [
    "# Substitui 'plataforma' por 'id_plataforma' via JOIN direto\n",
    "df_final = df_final.join(\n",
    "    dim_plataforma.select(\"plataforma\", \"id_plataforma\"),\n",
    "    on=\"plataforma\",\n",
    "    how=\"left\"\n",
    ").drop(\"plataforma\") \n",
    "\n",
    "# Checando\n",
    "df_final.show()"
   ]
  },
  {
   "cell_type": "markdown",
   "metadata": {
    "application/vnd.databricks.v1+cell": {
     "cellMetadata": {},
     "inputWidgets": {},
     "nuid": "0089a6c7-8321-4ee9-9cf9-1419f9d631dd",
     "showTitle": false,
     "tableResultSettingsMap": {},
     "title": ""
    }
   },
   "source": [
    "### **3.7. Salvando as tabelas no Hive**"
   ]
  },
  {
   "cell_type": "code",
   "execution_count": 0,
   "metadata": {
    "application/vnd.databricks.v1+cell": {
     "cellMetadata": {
      "byteLimit": 2048000,
      "rowLimit": 10000
     },
     "inputWidgets": {},
     "nuid": "2f1e3dc2-e1e4-492d-9d18-2160d3fac500",
     "showTitle": false,
     "tableResultSettingsMap": {},
     "title": ""
    }
   },
   "outputs": [],
   "source": [
    "# Tabela Fato\n",
    "df_final.write.format(\"delta\").mode(\"overwrite\").saveAsTable(\"tabela_fato\")\n",
    "\n",
    "# Tabela dimensão de plataformas\n",
    "dim_plataforma.write.format(\"delta\").mode(\"overwrite\").saveAsTable(\"dim_plataforma\")\n"
   ]
  },
  {
   "cell_type": "markdown",
   "metadata": {
    "application/vnd.databricks.v1+cell": {
     "cellMetadata": {
      "byteLimit": 2048000,
      "rowLimit": 10000
     },
     "inputWidgets": {},
     "nuid": "70c49df8-6dd0-4e82-bc11-f105bd1bf3d3",
     "showTitle": false,
     "tableResultSettingsMap": {},
     "title": ""
    }
   },
   "source": [
    "# **4. Solução do problema**"
   ]
  },
  {
   "cell_type": "markdown",
   "metadata": {
    "application/vnd.databricks.v1+cell": {
     "cellMetadata": {
      "byteLimit": 2048000,
      "rowLimit": 10000
     },
     "inputWidgets": {},
     "nuid": "58bbc183-59b0-47e8-9aa9-5e0321215fdc",
     "showTitle": false,
     "tableResultSettingsMap": {},
     "title": ""
    }
   },
   "source": [
    "### **4.1. Avaliação do catálogo de filmes por gênero em cada plataforma**"
   ]
  },
  {
   "cell_type": "markdown",
   "metadata": {
    "application/vnd.databricks.v1+cell": {
     "cellMetadata": {},
     "inputWidgets": {},
     "nuid": "f19bf5e1-81a4-49bd-8be2-7f78f35dffcf",
     "showTitle": false,
     "tableResultSettingsMap": {},
     "title": ""
    }
   },
   "source": [
    "#### **Comédia**"
   ]
  },
  {
   "cell_type": "code",
   "execution_count": 0,
   "metadata": {
    "application/vnd.databricks.v1+cell": {
     "cellMetadata": {
      "byteLimit": 2048000,
      "implicitDf": true,
      "rowLimit": 10000
     },
     "inputWidgets": {},
     "nuid": "4c1866e3-80bc-4f50-8ad0-956491c3dd91",
     "showTitle": false,
     "tableResultSettingsMap": {},
     "title": ""
    }
   },
   "outputs": [
    {
     "output_type": "display_data",
     "data": {
      "text/html": [
       "<style scoped>\n",
       "  .table-result-container {\n",
       "    max-height: 300px;\n",
       "    overflow: auto;\n",
       "  }\n",
       "  table, th, td {\n",
       "    border: 1px solid black;\n",
       "    border-collapse: collapse;\n",
       "  }\n",
       "  th, td {\n",
       "    padding: 5px;\n",
       "  }\n",
       "  th {\n",
       "    text-align: left;\n",
       "  }\n",
       "</style><div class='table-result-container'><table class='table-result'><thead style='background-color: white'><tr><th>plataforma</th><th>preco_mensal_sem_anuncios</th><th>media_imdb</th><th>diferenca_significativa</th></tr></thead><tbody><tr><td>HBO</td><td>55.9</td><td>6.32</td><td>false</td></tr><tr><td>Hulu</td><td>18.99</td><td>6.28</td><td>false</td></tr><tr><td>Apple TV</td><td>21.9</td><td>6.12</td><td>true</td></tr><tr><td>Netflix</td><td>59.9</td><td>6.0</td><td>true</td></tr><tr><td>Prime Video</td><td>29.9</td><td>5.79</td><td>true</td></tr></tbody></table></div>"
      ]
     },
     "metadata": {
      "application/vnd.databricks.v1+output": {
       "addedWidgets": {},
       "aggData": [],
       "aggError": "",
       "aggOverflow": false,
       "aggSchema": [],
       "aggSeriesLimitReached": false,
       "aggType": "",
       "arguments": {},
       "columnCustomDisplayInfos": {},
       "data": [
        [
         "HBO",
         55.9,
         6.32,
         false
        ],
        [
         "Hulu",
         18.99,
         6.28,
         false
        ],
        [
         "Apple TV",
         21.9,
         6.12,
         true
        ],
        [
         "Netflix",
         59.9,
         6.0,
         true
        ],
        [
         "Prime Video",
         29.9,
         5.79,
         true
        ]
       ],
       "datasetInfos": [],
       "dbfsResultPath": null,
       "isJsonSchema": true,
       "metadata": {},
       "overflow": false,
       "plotOptions": {
        "customPlotOptions": {},
        "displayType": "table",
        "pivotAggregation": null,
        "pivotColumns": null,
        "xColumns": null,
        "yColumns": null
       },
       "removedWidgets": [],
       "schema": [
        {
         "metadata": "{}",
         "name": "plataforma",
         "type": "\"string\""
        },
        {
         "metadata": "{}",
         "name": "preco_mensal_sem_anuncios",
         "type": "\"double\""
        },
        {
         "metadata": "{}",
         "name": "media_imdb",
         "type": "\"double\""
        },
        {
         "metadata": "{}",
         "name": "diferenca_significativa",
         "type": "\"boolean\""
        }
       ],
       "type": "table"
      }
     },
     "output_type": "display_data"
    }
   ],
   "source": [
    "%sql\n",
    "SELECT\n",
    "  p.plataforma,\n",
    "  p.preco_mensal_sem_anuncios,\n",
    "  f.media_imdb,\n",
    "  f.diferenca_significativa\n",
    "FROM default.tabela_fato f\n",
    "JOIN default.dim_plataforma p\n",
    "  ON f.id_plataforma = p.id_plataforma\n",
    "WHERE f.type = 'movie'\n",
    "  AND f.genero = 'comedy'\n",
    "ORDER BY f.media_imdb DESC"
   ]
  },
  {
   "cell_type": "markdown",
   "metadata": {
    "application/vnd.databricks.v1+cell": {
     "cellMetadata": {},
     "inputWidgets": {},
     "nuid": "c2365290-f88c-4e35-9fdb-094c000a735f",
     "showTitle": false,
     "tableResultSettingsMap": {},
     "title": ""
    }
   },
   "source": [
    "#### **Ação**\n"
   ]
  },
  {
   "cell_type": "code",
   "execution_count": 0,
   "metadata": {
    "application/vnd.databricks.v1+cell": {
     "cellMetadata": {
      "byteLimit": 2048000,
      "implicitDf": true,
      "rowLimit": 10000
     },
     "inputWidgets": {},
     "nuid": "3454ef3f-8665-4012-8acd-fd0670604aa1",
     "showTitle": false,
     "tableResultSettingsMap": {},
     "title": ""
    }
   },
   "outputs": [
    {
     "output_type": "display_data",
     "data": {
      "text/html": [
       "<style scoped>\n",
       "  .table-result-container {\n",
       "    max-height: 300px;\n",
       "    overflow: auto;\n",
       "  }\n",
       "  table, th, td {\n",
       "    border: 1px solid black;\n",
       "    border-collapse: collapse;\n",
       "  }\n",
       "  th, td {\n",
       "    padding: 5px;\n",
       "  }\n",
       "  th {\n",
       "    text-align: left;\n",
       "  }\n",
       "</style><div class='table-result-container'><table class='table-result'><thead style='background-color: white'><tr><th>plataforma</th><th>preco_mensal_sem_anuncios</th><th>media_imdb</th><th>diferenca_significativa</th></tr></thead><tbody><tr><td>HBO</td><td>55.9</td><td>6.35</td><td>false</td></tr><tr><td>Hulu</td><td>18.99</td><td>6.25</td><td>true</td></tr><tr><td>Netflix</td><td>59.9</td><td>6.12</td><td>true</td></tr><tr><td>Apple TV</td><td>21.9</td><td>5.79</td><td>true</td></tr><tr><td>Prime Video</td><td>29.9</td><td>5.35</td><td>true</td></tr></tbody></table></div>"
      ]
     },
     "metadata": {
      "application/vnd.databricks.v1+output": {
       "addedWidgets": {},
       "aggData": [],
       "aggError": "",
       "aggOverflow": false,
       "aggSchema": [],
       "aggSeriesLimitReached": false,
       "aggType": "",
       "arguments": {},
       "columnCustomDisplayInfos": {},
       "data": [
        [
         "HBO",
         55.9,
         6.35,
         false
        ],
        [
         "Hulu",
         18.99,
         6.25,
         true
        ],
        [
         "Netflix",
         59.9,
         6.12,
         true
        ],
        [
         "Apple TV",
         21.9,
         5.79,
         true
        ],
        [
         "Prime Video",
         29.9,
         5.35,
         true
        ]
       ],
       "datasetInfos": [],
       "dbfsResultPath": null,
       "isJsonSchema": true,
       "metadata": {},
       "overflow": false,
       "plotOptions": {
        "customPlotOptions": {},
        "displayType": "table",
        "pivotAggregation": null,
        "pivotColumns": null,
        "xColumns": null,
        "yColumns": null
       },
       "removedWidgets": [],
       "schema": [
        {
         "metadata": "{}",
         "name": "plataforma",
         "type": "\"string\""
        },
        {
         "metadata": "{}",
         "name": "preco_mensal_sem_anuncios",
         "type": "\"double\""
        },
        {
         "metadata": "{}",
         "name": "media_imdb",
         "type": "\"double\""
        },
        {
         "metadata": "{}",
         "name": "diferenca_significativa",
         "type": "\"boolean\""
        }
       ],
       "type": "table"
      }
     },
     "output_type": "display_data"
    }
   ],
   "source": [
    "%sql\n",
    "SELECT\n",
    "  p.plataforma,\n",
    "  p.preco_mensal_sem_anuncios,\n",
    "  f.media_imdb,\n",
    "  f.diferenca_significativa\n",
    "FROM default.tabela_fato f\n",
    "JOIN default.dim_plataforma p\n",
    "  ON f.id_plataforma = p.id_plataforma\n",
    "WHERE f.type = 'movie'\n",
    "  AND f.genero = 'action'\n",
    "ORDER BY f.media_imdb DESC;"
   ]
  },
  {
   "cell_type": "markdown",
   "metadata": {
    "application/vnd.databricks.v1+cell": {
     "cellMetadata": {},
     "inputWidgets": {},
     "nuid": "43f6ee59-433f-4e31-a4bd-5cd4b9e43148",
     "showTitle": false,
     "tableResultSettingsMap": {},
     "title": ""
    }
   },
   "source": [
    "#### **Drama**"
   ]
  },
  {
   "cell_type": "code",
   "execution_count": 0,
   "metadata": {
    "application/vnd.databricks.v1+cell": {
     "cellMetadata": {
      "byteLimit": 2048000,
      "implicitDf": true,
      "rowLimit": 10000
     },
     "inputWidgets": {},
     "nuid": "5784236b-9155-4bdb-bf7e-532e2a9e5d2a",
     "showTitle": false,
     "tableResultSettingsMap": {},
     "title": ""
    }
   },
   "outputs": [
    {
     "output_type": "display_data",
     "data": {
      "text/html": [
       "<style scoped>\n",
       "  .table-result-container {\n",
       "    max-height: 300px;\n",
       "    overflow: auto;\n",
       "  }\n",
       "  table, th, td {\n",
       "    border: 1px solid black;\n",
       "    border-collapse: collapse;\n",
       "  }\n",
       "  th, td {\n",
       "    padding: 5px;\n",
       "  }\n",
       "  th {\n",
       "    text-align: left;\n",
       "  }\n",
       "</style><div class='table-result-container'><table class='table-result'><thead style='background-color: white'><tr><th>plataforma</th><th>preco_mensal_sem_anuncios</th><th>media_imdb</th><th>diferenca_significativa</th></tr></thead><tbody><tr><td>HBO</td><td>55.9</td><td>6.7</td><td>false</td></tr><tr><td>Hulu</td><td>18.99</td><td>6.47</td><td>true</td></tr><tr><td>Netflix</td><td>59.9</td><td>6.4</td><td>true</td></tr><tr><td>Apple TV</td><td>21.9</td><td>6.35</td><td>true</td></tr><tr><td>Prime Video</td><td>29.9</td><td>6.04</td><td>true</td></tr></tbody></table></div>"
      ]
     },
     "metadata": {
      "application/vnd.databricks.v1+output": {
       "addedWidgets": {},
       "aggData": [],
       "aggError": "",
       "aggOverflow": false,
       "aggSchema": [],
       "aggSeriesLimitReached": false,
       "aggType": "",
       "arguments": {},
       "columnCustomDisplayInfos": {},
       "data": [
        [
         "HBO",
         55.9,
         6.7,
         false
        ],
        [
         "Hulu",
         18.99,
         6.47,
         true
        ],
        [
         "Netflix",
         59.9,
         6.4,
         true
        ],
        [
         "Apple TV",
         21.9,
         6.35,
         true
        ],
        [
         "Prime Video",
         29.9,
         6.04,
         true
        ]
       ],
       "datasetInfos": [],
       "dbfsResultPath": null,
       "isJsonSchema": true,
       "metadata": {},
       "overflow": false,
       "plotOptions": {
        "customPlotOptions": {},
        "displayType": "table",
        "pivotAggregation": null,
        "pivotColumns": null,
        "xColumns": null,
        "yColumns": null
       },
       "removedWidgets": [],
       "schema": [
        {
         "metadata": "{}",
         "name": "plataforma",
         "type": "\"string\""
        },
        {
         "metadata": "{}",
         "name": "preco_mensal_sem_anuncios",
         "type": "\"double\""
        },
        {
         "metadata": "{}",
         "name": "media_imdb",
         "type": "\"double\""
        },
        {
         "metadata": "{}",
         "name": "diferenca_significativa",
         "type": "\"boolean\""
        }
       ],
       "type": "table"
      }
     },
     "output_type": "display_data"
    }
   ],
   "source": [
    "%sql\n",
    "SELECT\n",
    "  p.plataforma,\n",
    "  p.preco_mensal_sem_anuncios,\n",
    "  f.media_imdb,\n",
    "  f.diferenca_significativa\n",
    "FROM default.tabela_fato f\n",
    "JOIN default.dim_plataforma p\n",
    "  ON f.id_plataforma = p.id_plataforma\n",
    "WHERE f.type = 'movie'\n",
    "  AND f.genero = 'drama'\n",
    "ORDER BY f.media_imdb DESC;"
   ]
  },
  {
   "cell_type": "markdown",
   "metadata": {
    "application/vnd.databricks.v1+cell": {
     "cellMetadata": {},
     "inputWidgets": {},
     "nuid": "46534b68-2698-4e5a-8a26-fe0a78bf4cfe",
     "showTitle": false,
     "tableResultSettingsMap": {},
     "title": ""
    }
   },
   "source": [
    "#### **Horror**"
   ]
  },
  {
   "cell_type": "code",
   "execution_count": 0,
   "metadata": {
    "application/vnd.databricks.v1+cell": {
     "cellMetadata": {
      "byteLimit": 2048000,
      "implicitDf": true,
      "rowLimit": 10000
     },
     "inputWidgets": {},
     "nuid": "41ff79b0-34f3-4e9f-bd59-18257f8369ee",
     "showTitle": false,
     "tableResultSettingsMap": {},
     "title": ""
    }
   },
   "outputs": [
    {
     "output_type": "display_data",
     "data": {
      "text/html": [
       "<style scoped>\n",
       "  .table-result-container {\n",
       "    max-height: 300px;\n",
       "    overflow: auto;\n",
       "  }\n",
       "  table, th, td {\n",
       "    border: 1px solid black;\n",
       "    border-collapse: collapse;\n",
       "  }\n",
       "  th, td {\n",
       "    padding: 5px;\n",
       "  }\n",
       "  th {\n",
       "    text-align: left;\n",
       "  }\n",
       "</style><div class='table-result-container'><table class='table-result'><thead style='background-color: white'><tr><th>plataforma</th><th>preco_mensal_sem_anuncios</th><th>media_imdb</th><th>diferenca_significativa</th></tr></thead><tbody><tr><td>HBO</td><td>55.9</td><td>6.01</td><td>false</td></tr><tr><td>Hulu</td><td>18.99</td><td>5.54</td><td>true</td></tr><tr><td>Apple TV</td><td>21.9</td><td>5.5</td><td>true</td></tr><tr><td>Netflix</td><td>59.9</td><td>5.5</td><td>true</td></tr><tr><td>Prime Video</td><td>29.9</td><td>4.62</td><td>true</td></tr></tbody></table></div>"
      ]
     },
     "metadata": {
      "application/vnd.databricks.v1+output": {
       "addedWidgets": {},
       "aggData": [],
       "aggError": "",
       "aggOverflow": false,
       "aggSchema": [],
       "aggSeriesLimitReached": false,
       "aggType": "",
       "arguments": {},
       "columnCustomDisplayInfos": {},
       "data": [
        [
         "HBO",
         55.9,
         6.01,
         false
        ],
        [
         "Hulu",
         18.99,
         5.54,
         true
        ],
        [
         "Apple TV",
         21.9,
         5.5,
         true
        ],
        [
         "Netflix",
         59.9,
         5.5,
         true
        ],
        [
         "Prime Video",
         29.9,
         4.62,
         true
        ]
       ],
       "datasetInfos": [],
       "dbfsResultPath": null,
       "isJsonSchema": true,
       "metadata": {},
       "overflow": false,
       "plotOptions": {
        "customPlotOptions": {},
        "displayType": "table",
        "pivotAggregation": null,
        "pivotColumns": null,
        "xColumns": null,
        "yColumns": null
       },
       "removedWidgets": [],
       "schema": [
        {
         "metadata": "{}",
         "name": "plataforma",
         "type": "\"string\""
        },
        {
         "metadata": "{}",
         "name": "preco_mensal_sem_anuncios",
         "type": "\"double\""
        },
        {
         "metadata": "{}",
         "name": "media_imdb",
         "type": "\"double\""
        },
        {
         "metadata": "{}",
         "name": "diferenca_significativa",
         "type": "\"boolean\""
        }
       ],
       "type": "table"
      }
     },
     "output_type": "display_data"
    }
   ],
   "source": [
    "%sql\n",
    "SELECT\n",
    "  p.plataforma,\n",
    "  p.preco_mensal_sem_anuncios,\n",
    "  f.media_imdb,\n",
    "  f.diferenca_significativa\n",
    "FROM default.tabela_fato f\n",
    "JOIN default.dim_plataforma p\n",
    "  ON f.id_plataforma = p.id_plataforma\n",
    "WHERE f.type = 'movie'\n",
    "  AND f.genero = 'horror'\n",
    "ORDER BY f.media_imdb DESC;"
   ]
  },
  {
   "cell_type": "markdown",
   "metadata": {
    "application/vnd.databricks.v1+cell": {
     "cellMetadata": {},
     "inputWidgets": {},
     "nuid": "fe7fbc73-30eb-45aa-8d87-f27c8b497cbb",
     "showTitle": false,
     "tableResultSettingsMap": {},
     "title": ""
    }
   },
   "source": [
    "#### **Romance**"
   ]
  },
  {
   "cell_type": "code",
   "execution_count": 0,
   "metadata": {
    "application/vnd.databricks.v1+cell": {
     "cellMetadata": {
      "byteLimit": 2048000,
      "implicitDf": true,
      "rowLimit": 10000
     },
     "inputWidgets": {},
     "nuid": "dcce0c87-2968-43c0-9259-52d2958cdddc",
     "showTitle": false,
     "tableResultSettingsMap": {},
     "title": ""
    }
   },
   "outputs": [
    {
     "output_type": "display_data",
     "data": {
      "text/html": [
       "<style scoped>\n",
       "  .table-result-container {\n",
       "    max-height: 300px;\n",
       "    overflow: auto;\n",
       "  }\n",
       "  table, th, td {\n",
       "    border: 1px solid black;\n",
       "    border-collapse: collapse;\n",
       "  }\n",
       "  th, td {\n",
       "    padding: 5px;\n",
       "  }\n",
       "  th {\n",
       "    text-align: left;\n",
       "  }\n",
       "</style><div class='table-result-container'><table class='table-result'><thead style='background-color: white'><tr><th>plataforma</th><th>preco_mensal_sem_anuncios</th><th>media_imdb</th><th>diferenca_significativa</th></tr></thead><tbody><tr><td>HBO</td><td>55.9</td><td>6.48</td><td>false</td></tr><tr><td>Hulu</td><td>18.99</td><td>6.33</td><td>true</td></tr><tr><td>Apple TV</td><td>21.9</td><td>6.28</td><td>true</td></tr><tr><td>Netflix</td><td>59.9</td><td>6.16</td><td>true</td></tr><tr><td>Prime Video</td><td>29.9</td><td>6.03</td><td>true</td></tr></tbody></table></div>"
      ]
     },
     "metadata": {
      "application/vnd.databricks.v1+output": {
       "addedWidgets": {},
       "aggData": [],
       "aggError": "",
       "aggOverflow": false,
       "aggSchema": [],
       "aggSeriesLimitReached": false,
       "aggType": "",
       "arguments": {},
       "columnCustomDisplayInfos": {},
       "data": [
        [
         "HBO",
         55.9,
         6.48,
         false
        ],
        [
         "Hulu",
         18.99,
         6.33,
         true
        ],
        [
         "Apple TV",
         21.9,
         6.28,
         true
        ],
        [
         "Netflix",
         59.9,
         6.16,
         true
        ],
        [
         "Prime Video",
         29.9,
         6.03,
         true
        ]
       ],
       "datasetInfos": [],
       "dbfsResultPath": null,
       "isJsonSchema": true,
       "metadata": {},
       "overflow": false,
       "plotOptions": {
        "customPlotOptions": {},
        "displayType": "table",
        "pivotAggregation": null,
        "pivotColumns": null,
        "xColumns": null,
        "yColumns": null
       },
       "removedWidgets": [],
       "schema": [
        {
         "metadata": "{}",
         "name": "plataforma",
         "type": "\"string\""
        },
        {
         "metadata": "{}",
         "name": "preco_mensal_sem_anuncios",
         "type": "\"double\""
        },
        {
         "metadata": "{}",
         "name": "media_imdb",
         "type": "\"double\""
        },
        {
         "metadata": "{}",
         "name": "diferenca_significativa",
         "type": "\"boolean\""
        }
       ],
       "type": "table"
      }
     },
     "output_type": "display_data"
    }
   ],
   "source": [
    "%sql\n",
    "SELECT\n",
    "  p.plataforma,\n",
    "  p.preco_mensal_sem_anuncios,\n",
    "  f.media_imdb,\n",
    "  f.diferenca_significativa\n",
    "FROM default.tabela_fato f\n",
    "JOIN default.dim_plataforma p\n",
    "  ON f.id_plataforma = p.id_plataforma\n",
    "WHERE f.type = 'movie'\n",
    "  AND f.genero = 'romance'\n",
    "ORDER BY f.media_imdb DESC;\n"
   ]
  },
  {
   "cell_type": "markdown",
   "metadata": {
    "application/vnd.databricks.v1+cell": {
     "cellMetadata": {},
     "inputWidgets": {},
     "nuid": "e9b3bc07-0861-45e2-8ec7-d4f2cf2b2b1d",
     "showTitle": false,
     "tableResultSettingsMap": {},
     "title": ""
    }
   },
   "source": [
    "#### **Suspense**"
   ]
  },
  {
   "cell_type": "code",
   "execution_count": 0,
   "metadata": {
    "application/vnd.databricks.v1+cell": {
     "cellMetadata": {
      "byteLimit": 2048000,
      "implicitDf": true,
      "rowLimit": 10000
     },
     "inputWidgets": {},
     "nuid": "8b70d221-7f01-474b-b231-de6cace07f2b",
     "showTitle": false,
     "tableResultSettingsMap": {},
     "title": ""
    }
   },
   "outputs": [
    {
     "output_type": "display_data",
     "data": {
      "text/html": [
       "<style scoped>\n",
       "  .table-result-container {\n",
       "    max-height: 300px;\n",
       "    overflow: auto;\n",
       "  }\n",
       "  table, th, td {\n",
       "    border: 1px solid black;\n",
       "    border-collapse: collapse;\n",
       "  }\n",
       "  th, td {\n",
       "    padding: 5px;\n",
       "  }\n",
       "  th {\n",
       "    text-align: left;\n",
       "  }\n",
       "</style><div class='table-result-container'><table class='table-result'><thead style='background-color: white'><tr><th>plataforma</th><th>preco_mensal_sem_anuncios</th><th>media_imdb</th><th>diferenca_significativa</th></tr></thead><tbody><tr><td>HBO</td><td>55.9</td><td>6.28</td><td>false</td></tr><tr><td>Netflix</td><td>59.9</td><td>5.94</td><td>true</td></tr><tr><td>Hulu</td><td>18.99</td><td>5.89</td><td>true</td></tr><tr><td>Apple TV</td><td>21.9</td><td>5.7</td><td>true</td></tr><tr><td>Prime Video</td><td>29.9</td><td>5.23</td><td>true</td></tr></tbody></table></div>"
      ]
     },
     "metadata": {
      "application/vnd.databricks.v1+output": {
       "addedWidgets": {},
       "aggData": [],
       "aggError": "",
       "aggOverflow": false,
       "aggSchema": [],
       "aggSeriesLimitReached": false,
       "aggType": "",
       "arguments": {},
       "columnCustomDisplayInfos": {},
       "data": [
        [
         "HBO",
         55.9,
         6.28,
         false
        ],
        [
         "Netflix",
         59.9,
         5.94,
         true
        ],
        [
         "Hulu",
         18.99,
         5.89,
         true
        ],
        [
         "Apple TV",
         21.9,
         5.7,
         true
        ],
        [
         "Prime Video",
         29.9,
         5.23,
         true
        ]
       ],
       "datasetInfos": [],
       "dbfsResultPath": null,
       "isJsonSchema": true,
       "metadata": {},
       "overflow": false,
       "plotOptions": {
        "customPlotOptions": {},
        "displayType": "table",
        "pivotAggregation": null,
        "pivotColumns": null,
        "xColumns": null,
        "yColumns": null
       },
       "removedWidgets": [],
       "schema": [
        {
         "metadata": "{}",
         "name": "plataforma",
         "type": "\"string\""
        },
        {
         "metadata": "{}",
         "name": "preco_mensal_sem_anuncios",
         "type": "\"double\""
        },
        {
         "metadata": "{}",
         "name": "media_imdb",
         "type": "\"double\""
        },
        {
         "metadata": "{}",
         "name": "diferenca_significativa",
         "type": "\"boolean\""
        }
       ],
       "type": "table"
      }
     },
     "output_type": "display_data"
    }
   ],
   "source": [
    "%sql\n",
    "SELECT\n",
    "  p.plataforma,\n",
    "  p.preco_mensal_sem_anuncios,\n",
    "  f.media_imdb,\n",
    "  f.diferenca_significativa\n",
    "FROM default.tabela_fato f\n",
    "JOIN default.dim_plataforma p\n",
    "  ON f.id_plataforma = p.id_plataforma\n",
    "WHERE f.type = 'movie'\n",
    "  AND f.genero = 'thriller'\n",
    "ORDER BY f.media_imdb DESC;"
   ]
  },
  {
   "cell_type": "markdown",
   "metadata": {
    "application/vnd.databricks.v1+cell": {
     "cellMetadata": {},
     "inputWidgets": {},
     "nuid": "0e90c598-ea31-4b89-b7cc-33b1e498a443",
     "showTitle": false,
     "tableResultSettingsMap": {},
     "title": ""
    }
   },
   "source": [
    "#### **Ficção Científica**"
   ]
  },
  {
   "cell_type": "code",
   "execution_count": 0,
   "metadata": {
    "application/vnd.databricks.v1+cell": {
     "cellMetadata": {
      "byteLimit": 2048000,
      "implicitDf": true,
      "rowLimit": 10000
     },
     "inputWidgets": {},
     "nuid": "c0d1f8be-5198-4c74-89f5-26a3f8ddfb51",
     "showTitle": false,
     "tableResultSettingsMap": {},
     "title": ""
    }
   },
   "outputs": [
    {
     "output_type": "display_data",
     "data": {
      "text/html": [
       "<style scoped>\n",
       "  .table-result-container {\n",
       "    max-height: 300px;\n",
       "    overflow: auto;\n",
       "  }\n",
       "  table, th, td {\n",
       "    border: 1px solid black;\n",
       "    border-collapse: collapse;\n",
       "  }\n",
       "  th, td {\n",
       "    padding: 5px;\n",
       "  }\n",
       "  th {\n",
       "    text-align: left;\n",
       "  }\n",
       "</style><div class='table-result-container'><table class='table-result'><thead style='background-color: white'><tr><th>plataforma</th><th>preco_mensal_sem_anuncios</th><th>media_imdb</th><th>diferenca_significativa</th></tr></thead><tbody><tr><td>HBO</td><td>55.9</td><td>6.43</td><td>false</td></tr><tr><td>Netflix</td><td>59.9</td><td>6.05</td><td>true</td></tr><tr><td>Hulu</td><td>18.99</td><td>6.02</td><td>true</td></tr><tr><td>Apple TV</td><td>21.9</td><td>5.67</td><td>true</td></tr><tr><td>Prime Video</td><td>29.9</td><td>4.89</td><td>true</td></tr></tbody></table></div>"
      ]
     },
     "metadata": {
      "application/vnd.databricks.v1+output": {
       "addedWidgets": {},
       "aggData": [],
       "aggError": "",
       "aggOverflow": false,
       "aggSchema": [],
       "aggSeriesLimitReached": false,
       "aggType": "",
       "arguments": {},
       "columnCustomDisplayInfos": {},
       "data": [
        [
         "HBO",
         55.9,
         6.43,
         false
        ],
        [
         "Netflix",
         59.9,
         6.05,
         true
        ],
        [
         "Hulu",
         18.99,
         6.02,
         true
        ],
        [
         "Apple TV",
         21.9,
         5.67,
         true
        ],
        [
         "Prime Video",
         29.9,
         4.89,
         true
        ]
       ],
       "datasetInfos": [],
       "dbfsResultPath": null,
       "isJsonSchema": true,
       "metadata": {},
       "overflow": false,
       "plotOptions": {
        "customPlotOptions": {},
        "displayType": "table",
        "pivotAggregation": null,
        "pivotColumns": null,
        "xColumns": null,
        "yColumns": null
       },
       "removedWidgets": [],
       "schema": [
        {
         "metadata": "{}",
         "name": "plataforma",
         "type": "\"string\""
        },
        {
         "metadata": "{}",
         "name": "preco_mensal_sem_anuncios",
         "type": "\"double\""
        },
        {
         "metadata": "{}",
         "name": "media_imdb",
         "type": "\"double\""
        },
        {
         "metadata": "{}",
         "name": "diferenca_significativa",
         "type": "\"boolean\""
        }
       ],
       "type": "table"
      }
     },
     "output_type": "display_data"
    }
   ],
   "source": [
    "%sql\n",
    "SELECT\n",
    "  p.plataforma,\n",
    "  p.preco_mensal_sem_anuncios,\n",
    "  f.media_imdb,\n",
    "  f.diferenca_significativa\n",
    "FROM default.tabela_fato f\n",
    "JOIN default.dim_plataforma p\n",
    "  ON f.id_plataforma = p.id_plataforma\n",
    "WHERE f.type = 'movie'\n",
    "  AND f.genero = 'sci fi'\n",
    "ORDER BY f.media_imdb DESC;"
   ]
  },
  {
   "cell_type": "markdown",
   "metadata": {
    "application/vnd.databricks.v1+cell": {
     "cellMetadata": {
      "byteLimit": 2048000,
      "rowLimit": 10000
     },
     "inputWidgets": {},
     "nuid": "6ffee25d-b052-4d22-a9f5-e9160f2d1a0d",
     "showTitle": false,
     "tableResultSettingsMap": {},
     "title": ""
    }
   },
   "source": [
    "### **4.2. Avaliação do catálogo de séries por gênero em cada plataforma**\n"
   ]
  },
  {
   "cell_type": "markdown",
   "metadata": {
    "application/vnd.databricks.v1+cell": {
     "cellMetadata": {},
     "inputWidgets": {},
     "nuid": "4490d744-c1cf-4a7e-82db-282351ab1e5b",
     "showTitle": false,
     "tableResultSettingsMap": {},
     "title": ""
    }
   },
   "source": [
    "#### **Comédia**"
   ]
  },
  {
   "cell_type": "code",
   "execution_count": 0,
   "metadata": {
    "application/vnd.databricks.v1+cell": {
     "cellMetadata": {
      "byteLimit": 2048000,
      "implicitDf": true,
      "rowLimit": 10000
     },
     "inputWidgets": {},
     "nuid": "f0543b0e-cdaa-4607-ad95-f90701be1ef6",
     "showTitle": false,
     "tableResultSettingsMap": {},
     "title": ""
    }
   },
   "outputs": [
    {
     "output_type": "display_data",
     "data": {
      "text/html": [
       "<style scoped>\n",
       "  .table-result-container {\n",
       "    max-height: 300px;\n",
       "    overflow: auto;\n",
       "  }\n",
       "  table, th, td {\n",
       "    border: 1px solid black;\n",
       "    border-collapse: collapse;\n",
       "  }\n",
       "  th, td {\n",
       "    padding: 5px;\n",
       "  }\n",
       "  th {\n",
       "    text-align: left;\n",
       "  }\n",
       "</style><div class='table-result-container'><table class='table-result'><thead style='background-color: white'><tr><th>plataforma</th><th>preco_mensal_sem_anuncios</th><th>media_imdb</th><th>diferenca_significativa</th></tr></thead><tbody><tr><td>HBO</td><td>55.9</td><td>7.17</td><td>false</td></tr><tr><td>Netflix</td><td>59.9</td><td>7.14</td><td>false</td></tr><tr><td>Hulu</td><td>18.99</td><td>7.12</td><td>false</td></tr><tr><td>Apple TV</td><td>21.9</td><td>7.05</td><td>false</td></tr><tr><td>Prime Video</td><td>29.9</td><td>7.01</td><td>true</td></tr></tbody></table></div>"
      ]
     },
     "metadata": {
      "application/vnd.databricks.v1+output": {
       "addedWidgets": {},
       "aggData": [],
       "aggError": "",
       "aggOverflow": false,
       "aggSchema": [],
       "aggSeriesLimitReached": false,
       "aggType": "",
       "arguments": {},
       "columnCustomDisplayInfos": {},
       "data": [
        [
         "HBO",
         55.9,
         7.17,
         false
        ],
        [
         "Netflix",
         59.9,
         7.14,
         false
        ],
        [
         "Hulu",
         18.99,
         7.12,
         false
        ],
        [
         "Apple TV",
         21.9,
         7.05,
         false
        ],
        [
         "Prime Video",
         29.9,
         7.01,
         true
        ]
       ],
       "datasetInfos": [],
       "dbfsResultPath": null,
       "isJsonSchema": true,
       "metadata": {},
       "overflow": false,
       "plotOptions": {
        "customPlotOptions": {},
        "displayType": "table",
        "pivotAggregation": null,
        "pivotColumns": null,
        "xColumns": null,
        "yColumns": null
       },
       "removedWidgets": [],
       "schema": [
        {
         "metadata": "{}",
         "name": "plataforma",
         "type": "\"string\""
        },
        {
         "metadata": "{}",
         "name": "preco_mensal_sem_anuncios",
         "type": "\"double\""
        },
        {
         "metadata": "{}",
         "name": "media_imdb",
         "type": "\"double\""
        },
        {
         "metadata": "{}",
         "name": "diferenca_significativa",
         "type": "\"boolean\""
        }
       ],
       "type": "table"
      }
     },
     "output_type": "display_data"
    }
   ],
   "source": [
    "%sql\n",
    "SELECT\n",
    "  p.plataforma,\n",
    "  p.preco_mensal_sem_anuncios,\n",
    "  f.media_imdb,\n",
    "  f.diferenca_significativa\n",
    "FROM default.tabela_fato f\n",
    "JOIN default.dim_plataforma p\n",
    "  ON f.id_plataforma = p.id_plataforma\n",
    "WHERE f.type = 'tv'\n",
    "  AND f.genero = 'comedy'\n",
    "ORDER BY f.media_imdb DESC;"
   ]
  },
  {
   "cell_type": "markdown",
   "metadata": {
    "application/vnd.databricks.v1+cell": {
     "cellMetadata": {},
     "inputWidgets": {},
     "nuid": "56ef0763-efb3-4886-a1f3-652294e50400",
     "showTitle": false,
     "tableResultSettingsMap": {},
     "title": ""
    }
   },
   "source": [
    "#### **Ação**"
   ]
  },
  {
   "cell_type": "code",
   "execution_count": 0,
   "metadata": {
    "application/vnd.databricks.v1+cell": {
     "cellMetadata": {
      "byteLimit": 2048000,
      "implicitDf": true,
      "rowLimit": 10000
     },
     "inputWidgets": {},
     "nuid": "6f4d729a-2c29-45f2-8735-aced13100c1b",
     "showTitle": false,
     "tableResultSettingsMap": {},
     "title": ""
    }
   },
   "outputs": [
    {
     "output_type": "display_data",
     "data": {
      "text/html": [
       "<style scoped>\n",
       "  .table-result-container {\n",
       "    max-height: 300px;\n",
       "    overflow: auto;\n",
       "  }\n",
       "  table, th, td {\n",
       "    border: 1px solid black;\n",
       "    border-collapse: collapse;\n",
       "  }\n",
       "  th, td {\n",
       "    padding: 5px;\n",
       "  }\n",
       "  th {\n",
       "    text-align: left;\n",
       "  }\n",
       "</style><div class='table-result-container'><table class='table-result'><thead style='background-color: white'><tr><th>plataforma</th><th>preco_mensal_sem_anuncios</th><th>media_imdb</th><th>diferenca_significativa</th></tr></thead><tbody><tr><td>HBO</td><td>55.9</td><td>7.41</td><td>false</td></tr><tr><td>Netflix</td><td>59.9</td><td>7.19</td><td>true</td></tr><tr><td>Hulu</td><td>18.99</td><td>7.07</td><td>true</td></tr><tr><td>Prime Video</td><td>29.9</td><td>6.98</td><td>true</td></tr><tr><td>Apple TV</td><td>21.9</td><td>6.97</td><td>true</td></tr></tbody></table></div>"
      ]
     },
     "metadata": {
      "application/vnd.databricks.v1+output": {
       "addedWidgets": {},
       "aggData": [],
       "aggError": "",
       "aggOverflow": false,
       "aggSchema": [],
       "aggSeriesLimitReached": false,
       "aggType": "",
       "arguments": {},
       "columnCustomDisplayInfos": {},
       "data": [
        [
         "HBO",
         55.9,
         7.41,
         false
        ],
        [
         "Netflix",
         59.9,
         7.19,
         true
        ],
        [
         "Hulu",
         18.99,
         7.07,
         true
        ],
        [
         "Prime Video",
         29.9,
         6.98,
         true
        ],
        [
         "Apple TV",
         21.9,
         6.97,
         true
        ]
       ],
       "datasetInfos": [],
       "dbfsResultPath": null,
       "isJsonSchema": true,
       "metadata": {},
       "overflow": false,
       "plotOptions": {
        "customPlotOptions": {},
        "displayType": "table",
        "pivotAggregation": null,
        "pivotColumns": null,
        "xColumns": null,
        "yColumns": null
       },
       "removedWidgets": [],
       "schema": [
        {
         "metadata": "{}",
         "name": "plataforma",
         "type": "\"string\""
        },
        {
         "metadata": "{}",
         "name": "preco_mensal_sem_anuncios",
         "type": "\"double\""
        },
        {
         "metadata": "{}",
         "name": "media_imdb",
         "type": "\"double\""
        },
        {
         "metadata": "{}",
         "name": "diferenca_significativa",
         "type": "\"boolean\""
        }
       ],
       "type": "table"
      }
     },
     "output_type": "display_data"
    }
   ],
   "source": [
    "%sql\n",
    "SELECT\n",
    "  p.plataforma,\n",
    "  p.preco_mensal_sem_anuncios,\n",
    "  f.media_imdb,\n",
    "  f.diferenca_significativa\n",
    "FROM default.tabela_fato f\n",
    "JOIN default.dim_plataforma p\n",
    "  ON f.id_plataforma = p.id_plataforma\n",
    "WHERE f.type = 'tv'\n",
    "  AND f.genero = 'action'\n",
    "ORDER BY f.media_imdb DESC;"
   ]
  },
  {
   "cell_type": "markdown",
   "metadata": {
    "application/vnd.databricks.v1+cell": {
     "cellMetadata": {},
     "inputWidgets": {},
     "nuid": "e38e6baf-25c0-4533-9a82-8af93d668300",
     "showTitle": false,
     "tableResultSettingsMap": {},
     "title": ""
    }
   },
   "source": [
    "#### **Drama**"
   ]
  },
  {
   "cell_type": "code",
   "execution_count": 0,
   "metadata": {
    "application/vnd.databricks.v1+cell": {
     "cellMetadata": {
      "byteLimit": 2048000,
      "implicitDf": true,
      "rowLimit": 10000
     },
     "inputWidgets": {},
     "nuid": "ea79dbe0-544b-4e44-aeb2-01b8bbab1f12",
     "showTitle": false,
     "tableResultSettingsMap": {},
     "title": ""
    }
   },
   "outputs": [
    {
     "output_type": "display_data",
     "data": {
      "text/html": [
       "<style scoped>\n",
       "  .table-result-container {\n",
       "    max-height: 300px;\n",
       "    overflow: auto;\n",
       "  }\n",
       "  table, th, td {\n",
       "    border: 1px solid black;\n",
       "    border-collapse: collapse;\n",
       "  }\n",
       "  th, td {\n",
       "    padding: 5px;\n",
       "  }\n",
       "  th {\n",
       "    text-align: left;\n",
       "  }\n",
       "</style><div class='table-result-container'><table class='table-result'><thead style='background-color: white'><tr><th>plataforma</th><th>preco_mensal_sem_anuncios</th><th>media_imdb</th><th>diferenca_significativa</th></tr></thead><tbody><tr><td>HBO</td><td>55.9</td><td>7.23</td><td>false</td></tr><tr><td>Hulu</td><td>18.99</td><td>7.22</td><td>false</td></tr><tr><td>Netflix</td><td>59.9</td><td>7.19</td><td>false</td></tr><tr><td>Prime Video</td><td>29.9</td><td>7.18</td><td>false</td></tr><tr><td>Apple TV</td><td>21.9</td><td>7.16</td><td>false</td></tr></tbody></table></div>"
      ]
     },
     "metadata": {
      "application/vnd.databricks.v1+output": {
       "addedWidgets": {},
       "aggData": [],
       "aggError": "",
       "aggOverflow": false,
       "aggSchema": [],
       "aggSeriesLimitReached": false,
       "aggType": "",
       "arguments": {},
       "columnCustomDisplayInfos": {},
       "data": [
        [
         "HBO",
         55.9,
         7.23,
         false
        ],
        [
         "Hulu",
         18.99,
         7.22,
         false
        ],
        [
         "Netflix",
         59.9,
         7.19,
         false
        ],
        [
         "Prime Video",
         29.9,
         7.18,
         false
        ],
        [
         "Apple TV",
         21.9,
         7.16,
         false
        ]
       ],
       "datasetInfos": [],
       "dbfsResultPath": null,
       "isJsonSchema": true,
       "metadata": {},
       "overflow": false,
       "plotOptions": {
        "customPlotOptions": {},
        "displayType": "table",
        "pivotAggregation": null,
        "pivotColumns": null,
        "xColumns": null,
        "yColumns": null
       },
       "removedWidgets": [],
       "schema": [
        {
         "metadata": "{}",
         "name": "plataforma",
         "type": "\"string\""
        },
        {
         "metadata": "{}",
         "name": "preco_mensal_sem_anuncios",
         "type": "\"double\""
        },
        {
         "metadata": "{}",
         "name": "media_imdb",
         "type": "\"double\""
        },
        {
         "metadata": "{}",
         "name": "diferenca_significativa",
         "type": "\"boolean\""
        }
       ],
       "type": "table"
      }
     },
     "output_type": "display_data"
    }
   ],
   "source": [
    "%sql\n",
    "SELECT\n",
    "  p.plataforma,\n",
    "  p.preco_mensal_sem_anuncios,\n",
    "  f.media_imdb,\n",
    "  f.diferenca_significativa\n",
    "FROM default.tabela_fato f\n",
    "JOIN default.dim_plataforma p\n",
    "  ON f.id_plataforma = p.id_plataforma\n",
    "WHERE f.type = 'tv'\n",
    "  AND f.genero = 'drama'\n",
    "ORDER BY f.media_imdb DESC;"
   ]
  },
  {
   "cell_type": "markdown",
   "metadata": {
    "application/vnd.databricks.v1+cell": {
     "cellMetadata": {},
     "inputWidgets": {},
     "nuid": "63572608-6e92-48d7-8f3c-2757c9ba4a35",
     "showTitle": false,
     "tableResultSettingsMap": {},
     "title": ""
    }
   },
   "source": [
    "#### **Romance**"
   ]
  },
  {
   "cell_type": "code",
   "execution_count": 0,
   "metadata": {
    "application/vnd.databricks.v1+cell": {
     "cellMetadata": {
      "byteLimit": 2048000,
      "implicitDf": true,
      "rowLimit": 10000
     },
     "inputWidgets": {},
     "nuid": "c401b2ea-c197-4452-8673-393f211adf04",
     "showTitle": false,
     "tableResultSettingsMap": {},
     "title": ""
    }
   },
   "outputs": [
    {
     "output_type": "display_data",
     "data": {
      "text/html": [
       "<style scoped>\n",
       "  .table-result-container {\n",
       "    max-height: 300px;\n",
       "    overflow: auto;\n",
       "  }\n",
       "  table, th, td {\n",
       "    border: 1px solid black;\n",
       "    border-collapse: collapse;\n",
       "  }\n",
       "  th, td {\n",
       "    padding: 5px;\n",
       "  }\n",
       "  th {\n",
       "    text-align: left;\n",
       "  }\n",
       "</style><div class='table-result-container'><table class='table-result'><thead style='background-color: white'><tr><th>plataforma</th><th>preco_mensal_sem_anuncios</th><th>media_imdb</th><th>diferenca_significativa</th></tr></thead><tbody><tr><td>Netflix</td><td>59.9</td><td>7.15</td><td>false</td></tr><tr><td>HBO</td><td>55.9</td><td>7.04</td><td>false</td></tr><tr><td>Prime Video</td><td>29.9</td><td>7.04</td><td>true</td></tr><tr><td>Hulu</td><td>18.99</td><td>6.97</td><td>true</td></tr><tr><td>Apple TV</td><td>21.9</td><td>6.94</td><td>true</td></tr></tbody></table></div>"
      ]
     },
     "metadata": {
      "application/vnd.databricks.v1+output": {
       "addedWidgets": {},
       "aggData": [],
       "aggError": "",
       "aggOverflow": false,
       "aggSchema": [],
       "aggSeriesLimitReached": false,
       "aggType": "",
       "arguments": {},
       "columnCustomDisplayInfos": {},
       "data": [
        [
         "Netflix",
         59.9,
         7.15,
         false
        ],
        [
         "HBO",
         55.9,
         7.04,
         false
        ],
        [
         "Prime Video",
         29.9,
         7.04,
         true
        ],
        [
         "Hulu",
         18.99,
         6.97,
         true
        ],
        [
         "Apple TV",
         21.9,
         6.94,
         true
        ]
       ],
       "datasetInfos": [],
       "dbfsResultPath": null,
       "isJsonSchema": true,
       "metadata": {},
       "overflow": false,
       "plotOptions": {
        "customPlotOptions": {},
        "displayType": "table",
        "pivotAggregation": null,
        "pivotColumns": null,
        "xColumns": null,
        "yColumns": null
       },
       "removedWidgets": [],
       "schema": [
        {
         "metadata": "{}",
         "name": "plataforma",
         "type": "\"string\""
        },
        {
         "metadata": "{}",
         "name": "preco_mensal_sem_anuncios",
         "type": "\"double\""
        },
        {
         "metadata": "{}",
         "name": "media_imdb",
         "type": "\"double\""
        },
        {
         "metadata": "{}",
         "name": "diferenca_significativa",
         "type": "\"boolean\""
        }
       ],
       "type": "table"
      }
     },
     "output_type": "display_data"
    }
   ],
   "source": [
    "%sql\n",
    "SELECT\n",
    "  p.plataforma,\n",
    "  p.preco_mensal_sem_anuncios,\n",
    "  f.media_imdb,\n",
    "  f.diferenca_significativa\n",
    "FROM default.tabela_fato f\n",
    "JOIN default.dim_plataforma p\n",
    "  ON f.id_plataforma = p.id_plataforma\n",
    "WHERE f.type = 'tv'\n",
    "  AND f.genero = 'romance'\n",
    "ORDER BY f.media_imdb DESC;"
   ]
  },
  {
   "cell_type": "markdown",
   "metadata": {
    "application/vnd.databricks.v1+cell": {
     "cellMetadata": {},
     "inputWidgets": {},
     "nuid": "664a9a7e-bd6f-4824-9c7b-fae8f78b7cf8",
     "showTitle": false,
     "tableResultSettingsMap": {},
     "title": ""
    }
   },
   "source": [
    "#### **Horror**"
   ]
  },
  {
   "cell_type": "code",
   "execution_count": 0,
   "metadata": {
    "application/vnd.databricks.v1+cell": {
     "cellMetadata": {
      "byteLimit": 2048000,
      "implicitDf": true,
      "rowLimit": 10000
     },
     "inputWidgets": {},
     "nuid": "027bde10-97fd-47d8-9e1a-9e3b773112d6",
     "showTitle": false,
     "tableResultSettingsMap": {},
     "title": ""
    }
   },
   "outputs": [
    {
     "output_type": "display_data",
     "data": {
      "text/html": [
       "<style scoped>\n",
       "  .table-result-container {\n",
       "    max-height: 300px;\n",
       "    overflow: auto;\n",
       "  }\n",
       "  table, th, td {\n",
       "    border: 1px solid black;\n",
       "    border-collapse: collapse;\n",
       "  }\n",
       "  th, td {\n",
       "    padding: 5px;\n",
       "  }\n",
       "  th {\n",
       "    text-align: left;\n",
       "  }\n",
       "</style><div class='table-result-container'><table class='table-result'><thead style='background-color: white'><tr><th>plataforma</th><th>preco_mensal_sem_anuncios</th><th>media_imdb</th><th>diferenca_significativa</th></tr></thead><tbody><tr><td>Apple TV</td><td>21.9</td><td>6.92</td><td>false</td></tr><tr><td>Hulu</td><td>18.99</td><td>6.88</td><td>false</td></tr><tr><td>Prime Video</td><td>29.9</td><td>6.76</td><td>false</td></tr><tr><td>HBO</td><td>55.9</td><td>6.75</td><td>false</td></tr><tr><td>Netflix</td><td>59.9</td><td>6.72</td><td>false</td></tr></tbody></table></div>"
      ]
     },
     "metadata": {
      "application/vnd.databricks.v1+output": {
       "addedWidgets": {},
       "aggData": [],
       "aggError": "",
       "aggOverflow": false,
       "aggSchema": [],
       "aggSeriesLimitReached": false,
       "aggType": "",
       "arguments": {},
       "columnCustomDisplayInfos": {},
       "data": [
        [
         "Apple TV",
         21.9,
         6.92,
         false
        ],
        [
         "Hulu",
         18.99,
         6.88,
         false
        ],
        [
         "Prime Video",
         29.9,
         6.76,
         false
        ],
        [
         "HBO",
         55.9,
         6.75,
         false
        ],
        [
         "Netflix",
         59.9,
         6.72,
         false
        ]
       ],
       "datasetInfos": [],
       "dbfsResultPath": null,
       "isJsonSchema": true,
       "metadata": {},
       "overflow": false,
       "plotOptions": {
        "customPlotOptions": {},
        "displayType": "table",
        "pivotAggregation": null,
        "pivotColumns": null,
        "xColumns": null,
        "yColumns": null
       },
       "removedWidgets": [],
       "schema": [
        {
         "metadata": "{}",
         "name": "plataforma",
         "type": "\"string\""
        },
        {
         "metadata": "{}",
         "name": "preco_mensal_sem_anuncios",
         "type": "\"double\""
        },
        {
         "metadata": "{}",
         "name": "media_imdb",
         "type": "\"double\""
        },
        {
         "metadata": "{}",
         "name": "diferenca_significativa",
         "type": "\"boolean\""
        }
       ],
       "type": "table"
      }
     },
     "output_type": "display_data"
    }
   ],
   "source": [
    "%sql\n",
    "SELECT\n",
    "  p.plataforma,\n",
    "  p.preco_mensal_sem_anuncios,\n",
    "  f.media_imdb,\n",
    "  f.diferenca_significativa\n",
    "FROM default.tabela_fato f\n",
    "JOIN default.dim_plataforma p\n",
    "  ON f.id_plataforma = p.id_plataforma\n",
    "WHERE f.type = 'tv'\n",
    "  AND f.genero = 'horror'\n",
    "ORDER BY f.media_imdb DESC;"
   ]
  },
  {
   "cell_type": "markdown",
   "metadata": {
    "application/vnd.databricks.v1+cell": {
     "cellMetadata": {},
     "inputWidgets": {},
     "nuid": "311fd3f6-e3cf-4b26-a140-2f28876e2fe3",
     "showTitle": false,
     "tableResultSettingsMap": {},
     "title": ""
    }
   },
   "source": [
    "#### **Suspense**"
   ]
  },
  {
   "cell_type": "code",
   "execution_count": 0,
   "metadata": {
    "application/vnd.databricks.v1+cell": {
     "cellMetadata": {
      "byteLimit": 2048000,
      "implicitDf": true,
      "rowLimit": 10000
     },
     "inputWidgets": {},
     "nuid": "07c5e1a0-db8a-4649-8cef-f7ef3cc01b11",
     "showTitle": false,
     "tableResultSettingsMap": {},
     "title": ""
    }
   },
   "outputs": [
    {
     "output_type": "display_data",
     "data": {
      "text/html": [
       "<style scoped>\n",
       "  .table-result-container {\n",
       "    max-height: 300px;\n",
       "    overflow: auto;\n",
       "  }\n",
       "  table, th, td {\n",
       "    border: 1px solid black;\n",
       "    border-collapse: collapse;\n",
       "  }\n",
       "  th, td {\n",
       "    padding: 5px;\n",
       "  }\n",
       "  th {\n",
       "    text-align: left;\n",
       "  }\n",
       "</style><div class='table-result-container'><table class='table-result'><thead style='background-color: white'><tr><th>plataforma</th><th>preco_mensal_sem_anuncios</th><th>media_imdb</th><th>diferenca_significativa</th></tr></thead><tbody><tr><td>HBO</td><td>55.9</td><td>7.16</td><td>false</td></tr><tr><td>Hulu</td><td>18.99</td><td>7.13</td><td>false</td></tr><tr><td>Prime Video</td><td>29.9</td><td>6.92</td><td>true</td></tr><tr><td>Netflix</td><td>59.9</td><td>6.9</td><td>true</td></tr><tr><td>Apple TV</td><td>21.9</td><td>6.89</td><td>true</td></tr></tbody></table></div>"
      ]
     },
     "metadata": {
      "application/vnd.databricks.v1+output": {
       "addedWidgets": {},
       "aggData": [],
       "aggError": "",
       "aggOverflow": false,
       "aggSchema": [],
       "aggSeriesLimitReached": false,
       "aggType": "",
       "arguments": {},
       "columnCustomDisplayInfos": {},
       "data": [
        [
         "HBO",
         55.9,
         7.16,
         false
        ],
        [
         "Hulu",
         18.99,
         7.13,
         false
        ],
        [
         "Prime Video",
         29.9,
         6.92,
         true
        ],
        [
         "Netflix",
         59.9,
         6.9,
         true
        ],
        [
         "Apple TV",
         21.9,
         6.89,
         true
        ]
       ],
       "datasetInfos": [],
       "dbfsResultPath": null,
       "isJsonSchema": true,
       "metadata": {},
       "overflow": false,
       "plotOptions": {
        "customPlotOptions": {},
        "displayType": "table",
        "pivotAggregation": null,
        "pivotColumns": null,
        "xColumns": null,
        "yColumns": null
       },
       "removedWidgets": [],
       "schema": [
        {
         "metadata": "{}",
         "name": "plataforma",
         "type": "\"string\""
        },
        {
         "metadata": "{}",
         "name": "preco_mensal_sem_anuncios",
         "type": "\"double\""
        },
        {
         "metadata": "{}",
         "name": "media_imdb",
         "type": "\"double\""
        },
        {
         "metadata": "{}",
         "name": "diferenca_significativa",
         "type": "\"boolean\""
        }
       ],
       "type": "table"
      }
     },
     "output_type": "display_data"
    }
   ],
   "source": [
    "%sql\n",
    "SELECT\n",
    "  p.plataforma,\n",
    "  p.preco_mensal_sem_anuncios,\n",
    "  f.media_imdb,\n",
    "  f.diferenca_significativa\n",
    "FROM default.tabela_fato f\n",
    "JOIN default.dim_plataforma p\n",
    "  ON f.id_plataforma = p.id_plataforma\n",
    "WHERE f.type = 'tv'\n",
    "  AND f.genero = 'thriller'\n",
    "ORDER BY f.media_imdb DESC;"
   ]
  },
  {
   "cell_type": "markdown",
   "metadata": {
    "application/vnd.databricks.v1+cell": {
     "cellMetadata": {},
     "inputWidgets": {},
     "nuid": "46486d63-6347-4c7d-877a-668e09aa6c8d",
     "showTitle": false,
     "tableResultSettingsMap": {},
     "title": ""
    }
   },
   "source": [
    "#### **Ficção científica**"
   ]
  },
  {
   "cell_type": "code",
   "execution_count": 0,
   "metadata": {
    "application/vnd.databricks.v1+cell": {
     "cellMetadata": {
      "byteLimit": 2048000,
      "implicitDf": true,
      "rowLimit": 10000
     },
     "inputWidgets": {},
     "nuid": "d1007b70-1c06-4d4e-a933-4d6220cf8328",
     "showTitle": false,
     "tableResultSettingsMap": {},
     "title": ""
    }
   },
   "outputs": [
    {
     "output_type": "display_data",
     "data": {
      "text/html": [
       "<style scoped>\n",
       "  .table-result-container {\n",
       "    max-height: 300px;\n",
       "    overflow: auto;\n",
       "  }\n",
       "  table, th, td {\n",
       "    border: 1px solid black;\n",
       "    border-collapse: collapse;\n",
       "  }\n",
       "  th, td {\n",
       "    padding: 5px;\n",
       "  }\n",
       "  th {\n",
       "    text-align: left;\n",
       "  }\n",
       "</style><div class='table-result-container'><table class='table-result'><thead style='background-color: white'><tr><th>plataforma</th><th>preco_mensal_sem_anuncios</th><th>media_imdb</th><th>diferenca_significativa</th></tr></thead><tbody><tr><td>Apple TV</td><td>21.9</td><td>7.05</td><td>false</td></tr><tr><td>HBO</td><td>55.9</td><td>6.78</td><td>false</td></tr><tr><td>Hulu</td><td>18.99</td><td>6.67</td><td>true</td></tr><tr><td>Prime Video</td><td>29.9</td><td>6.63</td><td>true</td></tr><tr><td>Netflix</td><td>59.9</td><td>6.61</td><td>true</td></tr></tbody></table></div>"
      ]
     },
     "metadata": {
      "application/vnd.databricks.v1+output": {
       "addedWidgets": {},
       "aggData": [],
       "aggError": "",
       "aggOverflow": false,
       "aggSchema": [],
       "aggSeriesLimitReached": false,
       "aggType": "",
       "arguments": {},
       "columnCustomDisplayInfos": {},
       "data": [
        [
         "Apple TV",
         21.9,
         7.05,
         false
        ],
        [
         "HBO",
         55.9,
         6.78,
         false
        ],
        [
         "Hulu",
         18.99,
         6.67,
         true
        ],
        [
         "Prime Video",
         29.9,
         6.63,
         true
        ],
        [
         "Netflix",
         59.9,
         6.61,
         true
        ]
       ],
       "datasetInfos": [],
       "dbfsResultPath": null,
       "isJsonSchema": true,
       "metadata": {},
       "overflow": false,
       "plotOptions": {
        "customPlotOptions": {},
        "displayType": "table",
        "pivotAggregation": null,
        "pivotColumns": null,
        "xColumns": null,
        "yColumns": null
       },
       "removedWidgets": [],
       "schema": [
        {
         "metadata": "{}",
         "name": "plataforma",
         "type": "\"string\""
        },
        {
         "metadata": "{}",
         "name": "preco_mensal_sem_anuncios",
         "type": "\"double\""
        },
        {
         "metadata": "{}",
         "name": "media_imdb",
         "type": "\"double\""
        },
        {
         "metadata": "{}",
         "name": "diferenca_significativa",
         "type": "\"boolean\""
        }
       ],
       "type": "table"
      }
     },
     "output_type": "display_data"
    }
   ],
   "source": [
    "%sql\n",
    "SELECT\n",
    "  p.plataforma,\n",
    "  p.preco_mensal_sem_anuncios,\n",
    "  f.media_imdb,\n",
    "  f.diferenca_significativa\n",
    "FROM default.tabela_fato f\n",
    "JOIN default.dim_plataforma p\n",
    "  ON f.id_plataforma = p.id_plataforma\n",
    "WHERE f.type = 'tv'\n",
    "  AND f.genero = 'sci fi'\n",
    "ORDER BY f.media_imdb DESC;"
   ]
  }
 ],
 "metadata": {
  "application/vnd.databricks.v1+notebook": {
   "computePreferences": null,
   "dashboards": [],
   "environmentMetadata": {
    "base_environment": "",
    "environment_version": "1"
   },
   "inputWidgetPreferences": null,
   "language": "python",
   "notebookMetadata": {
    "mostRecentlyExecutedCommandWithImplicitDF": {
     "commandId": 1536317406247069,
     "dataframes": [
      "_sqldf"
     ]
    },
    "pythonIndentUnit": 4
   },
   "notebookName": "MVP engenharia de dados",
   "widgets": {}
  }
 },
 "nbformat": 4,
 "nbformat_minor": 0
}